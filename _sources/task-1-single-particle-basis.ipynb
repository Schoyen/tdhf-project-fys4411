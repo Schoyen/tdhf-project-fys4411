{
 "cells": [
  {
   "cell_type": "markdown",
   "id": "30c361c3",
   "metadata": {},
   "source": [
    "# Task 1: Single-particle basis"
   ]
  },
  {
   "cell_type": "markdown",
   "id": "556b74ff",
   "metadata": {},
   "source": [
    "We will here discuss how to set up the single-particle basis for the Hamiltonian used by {cite:t}`zanghellini_2004`. We will use a one-dimensional discrete-variable representation (DVR) for our single-particle states. Specifically we will use the sinc-DVR basis by {cite:t}`colbert-sinc`."
   ]
  },
  {
   "cell_type": "code",
   "execution_count": 3,
   "id": "1b3d1b60",
   "metadata": {},
   "outputs": [],
   "source": [
    "import numpy as np\n",
    "import matplotlib.pyplot as plt"
   ]
  },
  {
   "cell_type": "markdown",
   "id": "eae2d144",
   "metadata": {},
   "source": [
    "## Hamiltonian\n",
    "\n",
    "The Hamiltonian used by {cite:t}`zanghellini_2004` is\n",
    "\n",
    "$$\n",
    "    \\hat{H}(x_1, \\dots, x_N, t) = \\sum_{i = 1}^{N} \\left(\n",
    "        -\\frac{1}{2} \\frac{\\mathrm{d}^2}{\\mathrm{d}x_i^2}\n",
    "        + \\frac{\\Omega^2}{2} \\hat{x}_i^2\n",
    "        + \\hat{x}_i \\mathcal{E}_0 \\sin(\\omega t)\n",
    "    \\right)\n",
    "    + \\sum_{i = 1}^{N} \\sum_{j = i + 1}^{N}\n",
    "    \\frac{1}{\\sqrt{(\\hat{x}_i - \\hat{x}_j)^2 + a^2}},\n",
    "$$ (eq:hamiltonian)\n",
    "\n",
    "where we denote the time-independent one-body Hamiltonian by\n",
    "\n",
    "$$\n",
    "    \\hat{h}(x_i) = -\\frac{1}{2} \\frac{\\mathrm{d}^2}{\\mathrm{d}x_i^2}\n",
    "    + \\frac{\\Omega^2}{2} \\hat{x}_i^2\n",
    "    \\equiv \\hat{t} + \\hat{v}(x).\n",
    "$$ (eq:one-body-hamiltonian)\n",
    "\n",
    "Here $\\hat{t}$ is the kinetic energy operator, and $\\hat{v}(x)$ the harmonic oscillator potential energy operator.\n",
    "The two-body soft Coulomb interaction is denoted\n",
    "\\begin{align*}\n",
    "    \\hat{u}(x_i, x_j) = \\frac{1}{\\sqrt{(\\hat{x}_i - \\hat{x}_j)^2 + a^2}},\n",
    "\\end{align*}\n",
    "and the semi-classical monochromatic laser-field described by a  time-dependent, one-body, dipole interaction as\n",
    "\\begin{align*}\n",
    "    \\hat{h}_I(x_i, t)\n",
    "    = \\hat{x}_i \\mathcal{E}_0 \\sin(\\omega t).\n",
    "\\end{align*}\n",
    "As done by {cite:t}`zanghellini_2004` we will restrict ourselves to two-particles, i.e., $N = 2$, we use a trap frequency of $\\Omega = 0.25$, and a \"shielding\" parameter $a = 0.25$ for the Coulomb interaction. For the laser field we use a field strength of $\\mathcal{E}_0 = 1$ and a laser frequency of $\\omega = 8 \\Omega$."
   ]
  },
  {
   "cell_type": "markdown",
   "id": "16fc1b7d",
   "metadata": {},
   "source": [
    "## Definition of a one-dimensional DVR basis\n",
    "\n",
    "According to {cite:t}`colbert-dvr` a definition of a one-dimensional DVR consists of four components.\n",
    "They are:\n",
    "\n",
    "1. An orthonormal basis set $B = \\{\\chi_{\\alpha}(x) \\mid \\alpha = 1, \\dots, K\\}$, where $\\chi_{\\alpha}(x)$ are real.\n",
    "2. An $N$-point quadrature with the _points_ and _weights_ $Q = \\{(x_{\\alpha}, w_{\\alpha}) \\mid \\alpha = 1, \\dots K\\}$.\n",
    "3. The property $\\chi_{\\alpha}(x_{\\beta}) = w_{\\beta}^{-1/2} \\delta_{\\alpha \\beta}$ where $(x_{\\beta}, w_{\\beta}) \\in Q$ and $\\chi_{\\alpha}(x) \\in B$.\n",
    "4. The rule that the matrix elements of all multiplicative operators (all $\\hat{x}$-dependent operators) are computed within the quadrature approximation.\n",
    "\n",
    "{cite:t}`colbert-dvr` dub $\\chi_{\\alpha}(x)$ the DVR functions.\n",
    "Note that even though $\\chi_{\\alpha}(x_{\\beta}) = w_{\\beta}^{-1/2} \\delta_{\\alpha \\beta}$ when $(x_{\\beta},\n",
    "w_{\\beta}) \\in Q$, $\\chi_{\\alpha}(x)$  is not necessarily zero for all values of $x$. We will see an example of this below.\n",
    "That is, the basis functions does not have to be everywhere zero except for\n",
    "at the quadrature points.\n",
    "They are however orthogonal at the quadrature points as stated by property\n",
    "3 above.\n",
    "Property 4 is given mathematically as\n",
    "\\begin{align*}\n",
    "    \\langle \\chi_{\\alpha} | \\hat{v}(x) | \\chi_{\\beta} \\rangle\n",
    "    \\approx \\sum_{\\gamma = 1}^{K} w_{\\gamma} \\chi_{\\alpha}(x_{\\gamma}) v(x_{\\gamma}) \\chi_{\\beta}(x_{\\gamma})\n",
    "    = \\sum_{k = \\gamma}^{K} \\frac{w_{\\gamma}}{\\sqrt{w_{\\alpha} w_{\\beta}}} \\delta_{\\alpha \\gamma} \\delta_{\\beta \\gamma} v(x_{\\gamma})\n",
    "    = \\delta_{\\alpha \\beta} v(x_{\\beta}),\n",
    "\\end{align*}\n",
    "that is, the matrix elements of the potential operator (with only $\\hat{x}$-dependent operators) is the potential evaluated at the quadrature points, and it is diagonal."
   ]
  },
  {
   "cell_type": "markdown",
   "id": "eb817473",
   "metadata": {},
   "source": [
    "## Sinc-DVR basis\n",
    "\n",
    "The specific DVR-basis we will be using is the sinc-DVR by {cite:t}`colbert-sinc`. The basis set is then $B = \\{\\chi_{\\alpha}(x) \\mid \\alpha = 1, \\dots, K\\}$ with the basis functions defined as\n",
    "\\begin{align*}\n",
    "    \\chi_{\\alpha}(x) = \\frac{1}{\\sqrt{\\delta x}} \\mathrm{sinc}\\!\\left(\n",
    "    \\frac{x - x_{\\alpha}}{\\delta x}\n",
    "    \\right),\n",
    "\\end{align*}\n",
    "where the $\\mathrm{sinc}(x)$-function is given by\n",
    "\\begin{align*}\n",
    "    \\mathrm{sinc}(x) = \\begin{cases}\n",
    "        \\frac{\\sin(\\pi x)}{\\pi x}, & x \\neq 0, \\\\\n",
    "        \\quad 1, & x = 0.\n",
    "    \\end{cases}\n",
    "\\end{align*}\n",
    "The quadrature for this basis is $Q = \\{(x_0 + \\alpha\\delta x, \\delta x) \\mid \\alpha = 1, \\dots, K\\}$, that is, a uniform grid  with equal weights, $x_{\\alpha} = x_0 + \\alpha \\delta x$ with $x_0$ an arbitrary starting point, and all weights the same $\\delta x$."
   ]
  },
  {
   "cell_type": "code",
   "execution_count": 4,
   "id": "ec71f40b",
   "metadata": {},
   "outputs": [],
   "source": [
    "# Class defining a sinc-DVR single-particle function\n",
    "class SincDVR:\n",
    "    def __init__(self, x_a, dx):\n",
    "        self.x_a = x_a\n",
    "        self.dx = dx\n",
    "\n",
    "    def __call__(self, x):\n",
    "        return np.sinc((x - self.x_a) / self.dx) / np.sqrt(self.dx)"
   ]
  },
  {
   "cell_type": "code",
   "execution_count": 5,
   "id": "68655e6c",
   "metadata": {},
   "outputs": [],
   "source": [
    "dx = 0.2  # Grid-spacing\n",
    "x_min = -5  # Left-most side of the simulation box\n",
    "x_max = 5\n",
    "num_dvr = int((x_max - x_min) / dx) + 1  # Number of DVR-states\n",
    "\n",
    "grid = np.linspace(x_min, x_max, num_dvr)  # The uniform quadrature grid\n",
    "B = [SincDVR(x_a, dx) for x_a in grid]  # List of callable sinc-DVR functions"
   ]
  },
  {
   "cell_type": "markdown",
   "id": "4d573711",
   "metadata": {},
   "source": [
    "Below we demonstrate what the sinc-DVR functions look like, both on the grid (where they are Kronecker-Deltas) and on a more refined grid."
   ]
  },
  {
   "cell_type": "code",
   "execution_count": 12,
   "id": "bb967713",
   "metadata": {},
   "outputs": [
    {
     "data": {
      "image/png": "[encoded data removed]",
      "text/plain": [
       "<Figure size 640x480 with 1 Axes>"
      ]
     },
     "metadata": {},
     "output_type": "display_data"
    }
   ],
   "source": [
    "plt.scatter(grid, B[3](grid), color=\"b\", label=r\"$\\chi_3(x_\\beta)$\")\n",
    "plt.plot(\n",
    "    (x := np.linspace(x_min, x_max, num_dvr * 10)),\n",
    "    B[3](x),\n",
    "    color=\"r\",\n",
    "    label=r\"$\\chi_3(x)$\",\n",
    ")\n",
    "plt.grid()\n",
    "plt.legend()\n",
    "plt.show()"
   ]
  },
  {
   "cell_type": "markdown",
   "id": "39a11dd9",
   "metadata": {},
   "source": [
    "Here $\\chi_3(x)$ is the sinc-DVR function on a more refined grid, and $\\chi_3(x_{\\beta})$ denotes the same function evaluated only at the grid points. We see that $\\chi_3(x_{\\beta})$ is $(\\delta x)^{-1/2}$ at $x_3$, and zero at all the other quadrature points. The more refined function $\\chi_3(x)$ oscillates between the quadrature points, but is exactly zero at $x = x_{\\beta}$ when $\\beta \\neq 3$, and $(\\delta x)^{-1/2}$ when $x = x_3$."
   ]
  },
  {
   "cell_type": "markdown",
   "id": "7ffffae9",
   "metadata": {},
   "source": [
    "### Matrix elements of the Hamiltonian\n",
    "\n",
    "We will be needing both one-body and two-body matrix elements from the Hamiltonian shown in equation {eq}`eq:hamiltonian`. The kinetic energy matrix elements for the sinc-DVR can be found in equation (A7) in Ref. {cite}`colbert-sinc`. They are\n",
    "\\begin{align*}\n",
    "    t_{\\alpha \\beta}\n",
    "    \\equiv\n",
    "    \\langle \\chi_{\\alpha} | \\hat{t} | \\chi_{\\beta} \\rangle\n",
    "    = \\begin{cases}\n",
    "        \\frac{\\pi^2}{6 (\\delta x)^2}, & \\alpha = \\beta, \\\\\n",
    "        \\frac{(-1)^{\\alpha - \\beta}}{(\\delta x)^2 (\\alpha - \\beta)^2}, & \\alpha \\neq \\beta,\n",
    "    \\end{cases}\n",
    "\\end{align*}\n",
    "where $\\hat{t} = -\\frac{1}{2} \\frac{\\mathrm{d}^2}{\\mathrm{d} x^2}$ is the kinetic energy operator.\n",
    "The remaining terms can be evaluated using the quadrature rule. For example, the matrix elements of the harmonic oscillator potential (or only the operator part) are\n",
    "\\begin{align*}\n",
    "    \\langle \\chi_{\\alpha} | \\hat{x}^2 | \\chi_{\\beta} \\rangle\n",
    "    \\approx \\delta_{\\alpha \\beta} x_{\\beta}^2.\n",
    "\\end{align*}\n",
    "For the two-body Coulomb interaction there are two integrals which can both be solved using the quadrature rule.\n",
    "That is (note which position in the bras and the kets are pairwise integrated),\n",
    "\n",
    "$$\n",
    "    \\langle \\chi_{\\alpha} \\chi_{\\beta} | \\hat{u}(x_1, x_2) | \\chi_{\\gamma} \\chi_{\\delta} \\rangle\n",
    "    = \\int \\mathrm{d} x \\mathrm{d} y \\frac{\\chi_{\\alpha}(x) \\chi_{\\beta}(y) \\chi_{\\gamma}(x) \\chi_{\\delta}(y)}{\\sqrt{(x - y)^2 + a^2}}\n",
    "    \\approx \\delta_{\\alpha \\gamma} \\delta_{\\beta \\delta} u(x_{\\gamma}, x_{\\delta}).\n",
    "$$ (eq:task-1-quadrature-two-body)"
   ]
  },
  {
   "cell_type": "markdown",
   "id": "5cf5e290",
   "metadata": {},
   "source": [
    "```{admonition} Problem a)\n",
    "Show how the quadrature rule can be used twice to get the expression in equation {eq}`eq:task-1-quadrature-two-body`.\n",
    "```"
   ]
  },
  {
   "cell_type": "markdown",
   "id": "bc290fc2",
   "metadata": {},
   "source": [
    "```{admonition} Problem b)\n",
    "Set up the matrix elements needed for the Hamiltonian in equation {eq}`eq:hamiltonian`.\n",
    "```"
   ]
  },
  {
   "cell_type": "markdown",
   "id": "f8cb5402",
   "metadata": {},
   "source": [
    "```{admonition} Tip\n",
    ":class: tip\n",
    "Once you have set up the matrix elements of the one-body Hamiltonian from equation {eq}`eq:one-body-hamiltonian` you can check that the setup has been done correctly. The eigenvalues of the one-body Hamiltonian should correspond to the eigenvalues of a one-dimensional harmonic oscillator (see {cite}`griffiths2010introduction` chapter 2.3) (if they differ by much you might need to increase the number of basis functions, and it might be that only the lowest eigenvalues are correct).\n",
    "```"
   ]
  }
 ],
 "metadata": {
  "kernelspec": {
   "display_name": "Python 3 (ipykernel)",
   "language": "python",
   "name": "python3"
  },
  "language_info": {
   "codemirror_mode": {
    "name": "ipython",
    "version": 3
   },
   "file_extension": ".py",
   "mimetype": "text/x-python",
   "name": "python",
   "nbconvert_exporter": "python",
   "pygments_lexer": "ipython3",
   "version": "3.9.7"
  }
 },
 "nbformat": 4,
 "nbformat_minor": 5
}
