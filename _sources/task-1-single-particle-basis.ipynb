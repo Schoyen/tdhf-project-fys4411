{
 "cells": [
  {
   "cell_type": "markdown",
   "id": "5d5f84d1",
   "metadata": {},
   "source": [
    "# Task 1: Single-particle basis"
   ]
  },
  {
   "cell_type": "markdown",
   "id": "65dd32b3",
   "metadata": {},
   "source": [
    "We will here discuss how to set up the single-particle basis for the Hamiltonian used by {cite}`zanghellini_2004`. To achieve this we will solve the one-body Hamiltonian on a grid using finite differences. This will give us an approximation to the eigenstates and eigenenergies of the non-interacting single-particle problem."
   ]
  },
  {
   "cell_type": "markdown",
   "id": "d6e502a3",
   "metadata": {},
   "source": [
    "## One-body harmonic oscillator Hamiltonian\n",
    "\n",
    "In {cite}`zanghellini_2004` they look at two particles in a one-dimensional Hamiltonian coupled with a soft Coulomb interaction.\n",
    "We will use a single-particle basis of one-dimensional harmonic oscillator eigenfunctions.\n",
    "To construct this basis we diagonalize a one-dimensional harmonic oscillator Hamiltonian without the interaction term.\n",
    "The Hamiltonian is then given by\n",
    "\\begin{align}\n",
    "    \\hat{h}\n",
    "    = -\\frac{1}{2} \\frac{\\text{d}^2}{\\text{d}x^2}\n",
    "    + \\frac{1}{2} \\omega^2 \\hat{x}^2,\n",
    "\\end{align}\n",
    "where we use natural units with $\\hbar = m = 1$.\n",
    "We proceed by solving the time-independent Schrödinger equation, viz.\n",
    "\\begin{align}\n",
    "    \\hat{h}|\\chi_{\\alpha}\\rangle\n",
    "    = \\epsilon_{\\alpha}|\\chi_{\\alpha}\\rangle,\n",
    "\\end{align}\n",
    "where $\\epsilon_{\\alpha}$ are the eigenenergies and $|\\chi_{\\alpha}\\rangle$ the corresponding eigenstates.\n",
    "We already know the answers to this equation from {cite}`griffiths2010introduction`.\n",
    "The eigenenergies are $\\epsilon_{\\alpha} = \\omega(\\alpha + 1/2)$ for the energies and\n",
    "\\begin{align}\n",
    "    \\chi_{\\alpha}(x) = \\left(\\frac{\\omega}{\\pi}\\right)^{1 / 4}\n",
    "    \\frac{1}{\\sqrt{2^{\\alpha} \\alpha!}} H_{\\alpha}(\\sqrt{\\omega} x),\n",
    "\\end{align}\n",
    "for the eigenstates projected onto $x$.\n",
    "The $H_{\\alpha}(x)$ are the physicists' Hermite polynomials."
   ]
  },
  {
   "cell_type": "markdown",
   "id": "9cdb6cd7",
   "metadata": {},
   "source": [
    "## Setting up the basis using finite-differences\n",
    "\n",
    "We will however be using the [quantum-systems library](https://github.com/Schoyen/quantum-systems) to set up our basis functions.\n",
    "This library uses finite-differences to solve the one-body Hamiltonian as this allows for arbitrary potentials of the form $\\hat{v}(x)$.\n",
    "\n",
    "\n",
    "```{note}\n",
    "Add theory on how the diagonalization is done.\n",
    "```\n",
    "\n",
    "We choose a basis of the $l$ first eigenstates.\n",
    "\n",
    "### Matrix elements\n",
    "\n",
    "The matrix elements we will be needing for this project are:\n",
    "\\begin{gather}\n",
    "    h_{\\alpha \\beta} = \\langle \\chi_{\\alpha} | \\hat{h} | \\chi_{\\beta} \\rangle\n",
    "    = \\epsilon_{\\beta} \\delta_{\\alpha \\beta}, \\\\\n",
    "    u^{\\alpha \\beta}_{\\gamma \\delta}\n",
    "    = \\langle \\chi_{\\alpha} \\chi_{\\beta} | \\hat{u} | \\chi_{\\gamma} \\chi_{\\delta} \\rangle\n",
    "    = \\int \\text{d}x_1 \\text{d}x_2\n",
    "    \\frac{\n",
    "        \\chi^{*}_{\\alpha}(x_1)\n",
    "        \\chi^{*}_{\\beta}(x_2)\n",
    "        \\chi_{\\gamma}(x_1)\n",
    "        \\chi_{\\delta}(x_2)\n",
    "    }{\n",
    "        \\sqrt{(x_1 - x_2)^2 + a^2}\n",
    "    }, \\\\\n",
    "    x_{\\alpha \\beta}\n",
    "    = \\langle \\chi_{\\alpha} | \\hat{x} | \\chi_{\\beta} \\rangle\n",
    "    = \\int \\text{d} x\n",
    "    \\chi^{*}_{\\alpha}(x)\n",
    "    x\n",
    "    \\chi_{\\beta}(x),\n",
    "\\end{gather}\n",
    "where the position matrix elements $x_{\\alpha \\beta}$ will be used for the laser field.\n",
    "We will also need a representation of the single-particle functions on a grid, i.e., $\\chi_{\\alpha}(x)$.\n",
    "Luckily, quantum-systems will construct all of these matrix elements and single-particle functions for us.\n",
    "Below we demonstrate how these states can be found from the library."
   ]
  },
  {
   "cell_type": "code",
   "execution_count": 6,
   "id": "9c47c637",
   "metadata": {},
   "outputs": [
    {
     "data": {
      "application/javascript": [
       "\n",
       "            setTimeout(function() {\n",
       "                var nbb_cell_id = 6;\n",
       "                var nbb_unformatted_code = \"%reload_ext nb_black\";\n",
       "                var nbb_formatted_code = \"%reload_ext nb_black\";\n",
       "                var nbb_cells = Jupyter.notebook.get_cells();\n",
       "                for (var i = 0; i < nbb_cells.length; ++i) {\n",
       "                    if (nbb_cells[i].input_prompt_number == nbb_cell_id) {\n",
       "                        if (nbb_cells[i].get_text() == nbb_unformatted_code) {\n",
       "                             nbb_cells[i].set_text(nbb_formatted_code);\n",
       "                        }\n",
       "                        break;\n",
       "                    }\n",
       "                }\n",
       "            }, 500);\n",
       "            "
      ],
      "text/plain": [
       "<IPython.core.display.Javascript object>"
      ]
     },
     "metadata": {},
     "output_type": "display_data"
    },
    {
     "data": {
      "application/javascript": [
       "\n",
       "            setTimeout(function() {\n",
       "                var nbb_cell_id = 6;\n",
       "                var nbb_unformatted_code = \"%reload_ext nb_black\";\n",
       "                var nbb_formatted_code = \"%reload_ext nb_black\";\n",
       "                var nbb_cells = Jupyter.notebook.get_cells();\n",
       "                for (var i = 0; i < nbb_cells.length; ++i) {\n",
       "                    if (nbb_cells[i].input_prompt_number == nbb_cell_id) {\n",
       "                        if (nbb_cells[i].get_text() == nbb_unformatted_code) {\n",
       "                             nbb_cells[i].set_text(nbb_formatted_code);\n",
       "                        }\n",
       "                        break;\n",
       "                    }\n",
       "                }\n",
       "            }, 500);\n",
       "            "
      ],
      "text/plain": [
       "<IPython.core.display.Javascript object>"
      ]
     },
     "metadata": {},
     "output_type": "display_data"
    },
    {
     "data": {
      "application/javascript": [
       "\n",
       "            setTimeout(function() {\n",
       "                var nbb_cell_id = 6;\n",
       "                var nbb_unformatted_code = \"%reload_ext nb_black\";\n",
       "                var nbb_formatted_code = \"%reload_ext nb_black\";\n",
       "                var nbb_cells = Jupyter.notebook.get_cells();\n",
       "                for (var i = 0; i < nbb_cells.length; ++i) {\n",
       "                    if (nbb_cells[i].input_prompt_number == nbb_cell_id) {\n",
       "                        if (nbb_cells[i].get_text() == nbb_unformatted_code) {\n",
       "                             nbb_cells[i].set_text(nbb_formatted_code);\n",
       "                        }\n",
       "                        break;\n",
       "                    }\n",
       "                }\n",
       "            }, 500);\n",
       "            "
      ],
      "text/plain": [
       "<IPython.core.display.Javascript object>"
      ]
     },
     "metadata": {},
     "output_type": "display_data"
    },
    {
     "data": {
      "application/javascript": [
       "\n",
       "            setTimeout(function() {\n",
       "                var nbb_cell_id = 6;\n",
       "                var nbb_unformatted_code = \"%reload_ext nb_black\";\n",
       "                var nbb_formatted_code = \"%reload_ext nb_black\";\n",
       "                var nbb_cells = Jupyter.notebook.get_cells();\n",
       "                for (var i = 0; i < nbb_cells.length; ++i) {\n",
       "                    if (nbb_cells[i].input_prompt_number == nbb_cell_id) {\n",
       "                        if (nbb_cells[i].get_text() == nbb_unformatted_code) {\n",
       "                             nbb_cells[i].set_text(nbb_formatted_code);\n",
       "                        }\n",
       "                        break;\n",
       "                    }\n",
       "                }\n",
       "            }, 500);\n",
       "            "
      ],
      "text/plain": [
       "<IPython.core.display.Javascript object>"
      ]
     },
     "metadata": {},
     "output_type": "display_data"
    }
   ],
   "source": [
    "%reload_ext nb_black"
   ]
  },
  {
   "cell_type": "code",
   "execution_count": 7,
   "id": "9b3a9936",
   "metadata": {},
   "outputs": [
    {
     "data": {
      "application/javascript": [
       "\n",
       "            setTimeout(function() {\n",
       "                var nbb_cell_id = 7;\n",
       "                var nbb_unformatted_code = \"import numpy as np\\nimport matplotlib.pyplot as plt\\n\\nfrom quantum_systems import ODQD\";\n",
       "                var nbb_formatted_code = \"import numpy as np\\nimport matplotlib.pyplot as plt\\n\\nfrom quantum_systems import ODQD\";\n",
       "                var nbb_cells = Jupyter.notebook.get_cells();\n",
       "                for (var i = 0; i < nbb_cells.length; ++i) {\n",
       "                    if (nbb_cells[i].input_prompt_number == nbb_cell_id) {\n",
       "                        if (nbb_cells[i].get_text() == nbb_unformatted_code) {\n",
       "                             nbb_cells[i].set_text(nbb_formatted_code);\n",
       "                        }\n",
       "                        break;\n",
       "                    }\n",
       "                }\n",
       "            }, 500);\n",
       "            "
      ],
      "text/plain": [
       "<IPython.core.display.Javascript object>"
      ]
     },
     "metadata": {},
     "output_type": "display_data"
    },
    {
     "data": {
      "application/javascript": [
       "\n",
       "            setTimeout(function() {\n",
       "                var nbb_cell_id = 7;\n",
       "                var nbb_unformatted_code = \"import numpy as np\\nimport matplotlib.pyplot as plt\\n\\nfrom quantum_systems import ODQD\";\n",
       "                var nbb_formatted_code = \"import numpy as np\\nimport matplotlib.pyplot as plt\\n\\nfrom quantum_systems import ODQD\";\n",
       "                var nbb_cells = Jupyter.notebook.get_cells();\n",
       "                for (var i = 0; i < nbb_cells.length; ++i) {\n",
       "                    if (nbb_cells[i].input_prompt_number == nbb_cell_id) {\n",
       "                        if (nbb_cells[i].get_text() == nbb_unformatted_code) {\n",
       "                             nbb_cells[i].set_text(nbb_formatted_code);\n",
       "                        }\n",
       "                        break;\n",
       "                    }\n",
       "                }\n",
       "            }, 500);\n",
       "            "
      ],
      "text/plain": [
       "<IPython.core.display.Javascript object>"
      ]
     },
     "metadata": {},
     "output_type": "display_data"
    },
    {
     "data": {
      "application/javascript": [
       "\n",
       "            setTimeout(function() {\n",
       "                var nbb_cell_id = 7;\n",
       "                var nbb_unformatted_code = \"import numpy as np\\nimport matplotlib.pyplot as plt\\n\\nfrom quantum_systems import ODQD\";\n",
       "                var nbb_formatted_code = \"import numpy as np\\nimport matplotlib.pyplot as plt\\n\\nfrom quantum_systems import ODQD\";\n",
       "                var nbb_cells = Jupyter.notebook.get_cells();\n",
       "                for (var i = 0; i < nbb_cells.length; ++i) {\n",
       "                    if (nbb_cells[i].input_prompt_number == nbb_cell_id) {\n",
       "                        if (nbb_cells[i].get_text() == nbb_unformatted_code) {\n",
       "                             nbb_cells[i].set_text(nbb_formatted_code);\n",
       "                        }\n",
       "                        break;\n",
       "                    }\n",
       "                }\n",
       "            }, 500);\n",
       "            "
      ],
      "text/plain": [
       "<IPython.core.display.Javascript object>"
      ]
     },
     "metadata": {},
     "output_type": "display_data"
    },
    {
     "data": {
      "application/javascript": [
       "\n",
       "            setTimeout(function() {\n",
       "                var nbb_cell_id = 7;\n",
       "                var nbb_unformatted_code = \"import numpy as np\\nimport matplotlib.pyplot as plt\\n\\nfrom quantum_systems import ODQD\";\n",
       "                var nbb_formatted_code = \"import numpy as np\\nimport matplotlib.pyplot as plt\\n\\nfrom quantum_systems import ODQD\";\n",
       "                var nbb_cells = Jupyter.notebook.get_cells();\n",
       "                for (var i = 0; i < nbb_cells.length; ++i) {\n",
       "                    if (nbb_cells[i].input_prompt_number == nbb_cell_id) {\n",
       "                        if (nbb_cells[i].get_text() == nbb_unformatted_code) {\n",
       "                             nbb_cells[i].set_text(nbb_formatted_code);\n",
       "                        }\n",
       "                        break;\n",
       "                    }\n",
       "                }\n",
       "            }, 500);\n",
       "            "
      ],
      "text/plain": [
       "<IPython.core.display.Javascript object>"
      ]
     },
     "metadata": {},
     "output_type": "display_data"
    }
   ],
   "source": [
    "import numpy as np\n",
    "import matplotlib.pyplot as plt\n",
    "\n",
    "from quantum_systems import ODQD"
   ]
  },
  {
   "cell_type": "code",
   "execution_count": 19,
   "id": "222dcca6",
   "metadata": {},
   "outputs": [
    {
     "data": {
      "application/javascript": [
       "\n",
       "            setTimeout(function() {\n",
       "                var nbb_cell_id = 19;\n",
       "                var nbb_unformatted_code = \"l = 10  # Number of eigenstates\\ngrid_length = 10  # The width of the one-dimensional grid\\nnum_grid_points = 2001  # The number of discretized points on the grid.\\n# More points give better results for the single-particle basis at the cost of slower setup.\\n\\nalpha = 1  # The strength of the Coulomb interaction\\na = 0.25  # The shielding parameter in the Coulomb interaction potential\\n\\nomega = 0.25  # The frequency of the harmonic oscillator trap\";\n",
       "                var nbb_formatted_code = \"l = 10  # Number of eigenstates\\ngrid_length = 10  # The width of the one-dimensional grid\\nnum_grid_points = 2001  # The number of discretized points on the grid.\\n# More points give better results for the single-particle basis at the cost of slower setup.\\n\\nalpha = 1  # The strength of the Coulomb interaction\\na = 0.25  # The shielding parameter in the Coulomb interaction potential\\n\\nomega = 0.25  # The frequency of the harmonic oscillator trap\";\n",
       "                var nbb_cells = Jupyter.notebook.get_cells();\n",
       "                for (var i = 0; i < nbb_cells.length; ++i) {\n",
       "                    if (nbb_cells[i].input_prompt_number == nbb_cell_id) {\n",
       "                        if (nbb_cells[i].get_text() == nbb_unformatted_code) {\n",
       "                             nbb_cells[i].set_text(nbb_formatted_code);\n",
       "                        }\n",
       "                        break;\n",
       "                    }\n",
       "                }\n",
       "            }, 500);\n",
       "            "
      ],
      "text/plain": [
       "<IPython.core.display.Javascript object>"
      ]
     },
     "metadata": {},
     "output_type": "display_data"
    },
    {
     "data": {
      "application/javascript": [
       "\n",
       "            setTimeout(function() {\n",
       "                var nbb_cell_id = 19;\n",
       "                var nbb_unformatted_code = \"l = 10  # Number of eigenstates\\ngrid_length = 10  # The width of the one-dimensional grid\\nnum_grid_points = 2001  # The number of discretized points on the grid.\\n# More points give better results for the single-particle basis at the cost of slower setup.\\n\\nalpha = 1  # The strength of the Coulomb interaction\\na = 0.25  # The shielding parameter in the Coulomb interaction potential\\n\\nomega = 0.25  # The frequency of the harmonic oscillator trap\";\n",
       "                var nbb_formatted_code = \"l = 10  # Number of eigenstates\\ngrid_length = 10  # The width of the one-dimensional grid\\nnum_grid_points = 2001  # The number of discretized points on the grid.\\n# More points give better results for the single-particle basis at the cost of slower setup.\\n\\nalpha = 1  # The strength of the Coulomb interaction\\na = 0.25  # The shielding parameter in the Coulomb interaction potential\\n\\nomega = 0.25  # The frequency of the harmonic oscillator trap\";\n",
       "                var nbb_cells = Jupyter.notebook.get_cells();\n",
       "                for (var i = 0; i < nbb_cells.length; ++i) {\n",
       "                    if (nbb_cells[i].input_prompt_number == nbb_cell_id) {\n",
       "                        if (nbb_cells[i].get_text() == nbb_unformatted_code) {\n",
       "                             nbb_cells[i].set_text(nbb_formatted_code);\n",
       "                        }\n",
       "                        break;\n",
       "                    }\n",
       "                }\n",
       "            }, 500);\n",
       "            "
      ],
      "text/plain": [
       "<IPython.core.display.Javascript object>"
      ]
     },
     "metadata": {},
     "output_type": "display_data"
    },
    {
     "data": {
      "application/javascript": [
       "\n",
       "            setTimeout(function() {\n",
       "                var nbb_cell_id = 19;\n",
       "                var nbb_unformatted_code = \"l = 10  # Number of eigenstates\\ngrid_length = 10  # The width of the one-dimensional grid\\nnum_grid_points = 2001  # The number of discretized points on the grid.\\n# More points give better results for the single-particle basis at the cost of slower setup.\\n\\nalpha = 1  # The strength of the Coulomb interaction\\na = 0.25  # The shielding parameter in the Coulomb interaction potential\\n\\nomega = 0.25  # The frequency of the harmonic oscillator trap\";\n",
       "                var nbb_formatted_code = \"l = 10  # Number of eigenstates\\ngrid_length = 10  # The width of the one-dimensional grid\\nnum_grid_points = 2001  # The number of discretized points on the grid.\\n# More points give better results for the single-particle basis at the cost of slower setup.\\n\\nalpha = 1  # The strength of the Coulomb interaction\\na = 0.25  # The shielding parameter in the Coulomb interaction potential\\n\\nomega = 0.25  # The frequency of the harmonic oscillator trap\";\n",
       "                var nbb_cells = Jupyter.notebook.get_cells();\n",
       "                for (var i = 0; i < nbb_cells.length; ++i) {\n",
       "                    if (nbb_cells[i].input_prompt_number == nbb_cell_id) {\n",
       "                        if (nbb_cells[i].get_text() == nbb_unformatted_code) {\n",
       "                             nbb_cells[i].set_text(nbb_formatted_code);\n",
       "                        }\n",
       "                        break;\n",
       "                    }\n",
       "                }\n",
       "            }, 500);\n",
       "            "
      ],
      "text/plain": [
       "<IPython.core.display.Javascript object>"
      ]
     },
     "metadata": {},
     "output_type": "display_data"
    },
    {
     "data": {
      "application/javascript": [
       "\n",
       "            setTimeout(function() {\n",
       "                var nbb_cell_id = 19;\n",
       "                var nbb_unformatted_code = \"l = 10  # Number of eigenstates\\ngrid_length = 10  # The width of the one-dimensional grid\\nnum_grid_points = 2001  # The number of discretized points on the grid.\\n# More points give better results for the single-particle basis at the cost of slower setup.\\n\\nalpha = 1  # The strength of the Coulomb interaction\\na = 0.25  # The shielding parameter in the Coulomb interaction potential\\n\\nomega = 0.25  # The frequency of the harmonic oscillator trap\";\n",
       "                var nbb_formatted_code = \"l = 10  # Number of eigenstates\\ngrid_length = 10  # The width of the one-dimensional grid\\nnum_grid_points = 2001  # The number of discretized points on the grid.\\n# More points give better results for the single-particle basis at the cost of slower setup.\\n\\nalpha = 1  # The strength of the Coulomb interaction\\na = 0.25  # The shielding parameter in the Coulomb interaction potential\\n\\nomega = 0.25  # The frequency of the harmonic oscillator trap\";\n",
       "                var nbb_cells = Jupyter.notebook.get_cells();\n",
       "                for (var i = 0; i < nbb_cells.length; ++i) {\n",
       "                    if (nbb_cells[i].input_prompt_number == nbb_cell_id) {\n",
       "                        if (nbb_cells[i].get_text() == nbb_unformatted_code) {\n",
       "                             nbb_cells[i].set_text(nbb_formatted_code);\n",
       "                        }\n",
       "                        break;\n",
       "                    }\n",
       "                }\n",
       "            }, 500);\n",
       "            "
      ],
      "text/plain": [
       "<IPython.core.display.Javascript object>"
      ]
     },
     "metadata": {},
     "output_type": "display_data"
    }
   ],
   "source": [
    "l = 10  # Number of eigenstates\n",
    "grid_length = 10  # The width of the one-dimensional grid\n",
    "num_grid_points = 2001  # The number of discretized points on the grid.\n",
    "# More points give better results for the single-particle basis at the cost of slower setup.\n",
    "\n",
    "alpha = 1  # The strength of the Coulomb interaction\n",
    "a = 0.25  # The shielding parameter in the Coulomb interaction potential\n",
    "\n",
    "omega = 0.25  # The frequency of the harmonic oscillator trap"
   ]
  },
  {
   "cell_type": "code",
   "execution_count": 17,
   "id": "dca7a0b2",
   "metadata": {},
   "outputs": [
    {
     "data": {
      "application/javascript": [
       "\n",
       "            setTimeout(function() {\n",
       "                var nbb_cell_id = 17;\n",
       "                var nbb_unformatted_code = \"potential = ODQD.HOPotential(omega=omega)  # Harmonic oscillator potential\";\n",
       "                var nbb_formatted_code = \"potential = ODQD.HOPotential(omega=omega)  # Harmonic oscillator potential\";\n",
       "                var nbb_cells = Jupyter.notebook.get_cells();\n",
       "                for (var i = 0; i < nbb_cells.length; ++i) {\n",
       "                    if (nbb_cells[i].input_prompt_number == nbb_cell_id) {\n",
       "                        if (nbb_cells[i].get_text() == nbb_unformatted_code) {\n",
       "                             nbb_cells[i].set_text(nbb_formatted_code);\n",
       "                        }\n",
       "                        break;\n",
       "                    }\n",
       "                }\n",
       "            }, 500);\n",
       "            "
      ],
      "text/plain": [
       "<IPython.core.display.Javascript object>"
      ]
     },
     "metadata": {},
     "output_type": "display_data"
    },
    {
     "data": {
      "application/javascript": [
       "\n",
       "            setTimeout(function() {\n",
       "                var nbb_cell_id = 17;\n",
       "                var nbb_unformatted_code = \"potential = ODQD.HOPotential(omega=omega)  # Harmonic oscillator potential\";\n",
       "                var nbb_formatted_code = \"potential = ODQD.HOPotential(omega=omega)  # Harmonic oscillator potential\";\n",
       "                var nbb_cells = Jupyter.notebook.get_cells();\n",
       "                for (var i = 0; i < nbb_cells.length; ++i) {\n",
       "                    if (nbb_cells[i].input_prompt_number == nbb_cell_id) {\n",
       "                        if (nbb_cells[i].get_text() == nbb_unformatted_code) {\n",
       "                             nbb_cells[i].set_text(nbb_formatted_code);\n",
       "                        }\n",
       "                        break;\n",
       "                    }\n",
       "                }\n",
       "            }, 500);\n",
       "            "
      ],
      "text/plain": [
       "<IPython.core.display.Javascript object>"
      ]
     },
     "metadata": {},
     "output_type": "display_data"
    },
    {
     "data": {
      "application/javascript": [
       "\n",
       "            setTimeout(function() {\n",
       "                var nbb_cell_id = 17;\n",
       "                var nbb_unformatted_code = \"potential = ODQD.HOPotential(omega=omega)  # Harmonic oscillator potential\";\n",
       "                var nbb_formatted_code = \"potential = ODQD.HOPotential(omega=omega)  # Harmonic oscillator potential\";\n",
       "                var nbb_cells = Jupyter.notebook.get_cells();\n",
       "                for (var i = 0; i < nbb_cells.length; ++i) {\n",
       "                    if (nbb_cells[i].input_prompt_number == nbb_cell_id) {\n",
       "                        if (nbb_cells[i].get_text() == nbb_unformatted_code) {\n",
       "                             nbb_cells[i].set_text(nbb_formatted_code);\n",
       "                        }\n",
       "                        break;\n",
       "                    }\n",
       "                }\n",
       "            }, 500);\n",
       "            "
      ],
      "text/plain": [
       "<IPython.core.display.Javascript object>"
      ]
     },
     "metadata": {},
     "output_type": "display_data"
    },
    {
     "data": {
      "application/javascript": [
       "\n",
       "            setTimeout(function() {\n",
       "                var nbb_cell_id = 17;\n",
       "                var nbb_unformatted_code = \"potential = ODQD.HOPotential(omega=omega)  # Harmonic oscillator potential\";\n",
       "                var nbb_formatted_code = \"potential = ODQD.HOPotential(omega=omega)  # Harmonic oscillator potential\";\n",
       "                var nbb_cells = Jupyter.notebook.get_cells();\n",
       "                for (var i = 0; i < nbb_cells.length; ++i) {\n",
       "                    if (nbb_cells[i].input_prompt_number == nbb_cell_id) {\n",
       "                        if (nbb_cells[i].get_text() == nbb_unformatted_code) {\n",
       "                             nbb_cells[i].set_text(nbb_formatted_code);\n",
       "                        }\n",
       "                        break;\n",
       "                    }\n",
       "                }\n",
       "            }, 500);\n",
       "            "
      ],
      "text/plain": [
       "<IPython.core.display.Javascript object>"
      ]
     },
     "metadata": {},
     "output_type": "display_data"
    }
   ],
   "source": [
    "potential = ODQD.HOPotential(omega=omega)  # Harmonic oscillator potential"
   ]
  },
  {
   "cell_type": "markdown",
   "id": "dbc2f90a",
   "metadata": {},
   "source": [
    "For examples on how to create your own potential see here: https://github.com/Schoyen/quantum-systems/blob/master/quantum_systems/quantum_dots/one_dim/one_dim_potentials.py\n",
    "\n",
    "Below we construct the basis set."
   ]
  },
  {
   "cell_type": "code",
   "execution_count": 18,
   "id": "6c407653",
   "metadata": {},
   "outputs": [
    {
     "data": {
      "application/javascript": [
       "\n",
       "            setTimeout(function() {\n",
       "                var nbb_cell_id = 18;\n",
       "                var nbb_unformatted_code = \"odqd = ODQD(\\n    l=l,\\n    grid_length=grid_length,\\n    num_grid_points=num_grid_points,\\n    alpha=alpha,\\n    a=a,\\n    potential=potential,\\n)\";\n",
       "                var nbb_formatted_code = \"odqd = ODQD(\\n    l=l,\\n    grid_length=grid_length,\\n    num_grid_points=num_grid_points,\\n    alpha=alpha,\\n    a=a,\\n    potential=potential,\\n)\";\n",
       "                var nbb_cells = Jupyter.notebook.get_cells();\n",
       "                for (var i = 0; i < nbb_cells.length; ++i) {\n",
       "                    if (nbb_cells[i].input_prompt_number == nbb_cell_id) {\n",
       "                        if (nbb_cells[i].get_text() == nbb_unformatted_code) {\n",
       "                             nbb_cells[i].set_text(nbb_formatted_code);\n",
       "                        }\n",
       "                        break;\n",
       "                    }\n",
       "                }\n",
       "            }, 500);\n",
       "            "
      ],
      "text/plain": [
       "<IPython.core.display.Javascript object>"
      ]
     },
     "metadata": {},
     "output_type": "display_data"
    },
    {
     "data": {
      "application/javascript": [
       "\n",
       "            setTimeout(function() {\n",
       "                var nbb_cell_id = 18;\n",
       "                var nbb_unformatted_code = \"odqd = ODQD(\\n    l=l,\\n    grid_length=grid_length,\\n    num_grid_points=num_grid_points,\\n    alpha=alpha,\\n    a=a,\\n    potential=potential,\\n)\";\n",
       "                var nbb_formatted_code = \"odqd = ODQD(\\n    l=l,\\n    grid_length=grid_length,\\n    num_grid_points=num_grid_points,\\n    alpha=alpha,\\n    a=a,\\n    potential=potential,\\n)\";\n",
       "                var nbb_cells = Jupyter.notebook.get_cells();\n",
       "                for (var i = 0; i < nbb_cells.length; ++i) {\n",
       "                    if (nbb_cells[i].input_prompt_number == nbb_cell_id) {\n",
       "                        if (nbb_cells[i].get_text() == nbb_unformatted_code) {\n",
       "                             nbb_cells[i].set_text(nbb_formatted_code);\n",
       "                        }\n",
       "                        break;\n",
       "                    }\n",
       "                }\n",
       "            }, 500);\n",
       "            "
      ],
      "text/plain": [
       "<IPython.core.display.Javascript object>"
      ]
     },
     "metadata": {},
     "output_type": "display_data"
    },
    {
     "data": {
      "application/javascript": [
       "\n",
       "            setTimeout(function() {\n",
       "                var nbb_cell_id = 18;\n",
       "                var nbb_unformatted_code = \"odqd = ODQD(\\n    l=l,\\n    grid_length=grid_length,\\n    num_grid_points=num_grid_points,\\n    alpha=alpha,\\n    a=a,\\n    potential=potential,\\n)\";\n",
       "                var nbb_formatted_code = \"odqd = ODQD(\\n    l=l,\\n    grid_length=grid_length,\\n    num_grid_points=num_grid_points,\\n    alpha=alpha,\\n    a=a,\\n    potential=potential,\\n)\";\n",
       "                var nbb_cells = Jupyter.notebook.get_cells();\n",
       "                for (var i = 0; i < nbb_cells.length; ++i) {\n",
       "                    if (nbb_cells[i].input_prompt_number == nbb_cell_id) {\n",
       "                        if (nbb_cells[i].get_text() == nbb_unformatted_code) {\n",
       "                             nbb_cells[i].set_text(nbb_formatted_code);\n",
       "                        }\n",
       "                        break;\n",
       "                    }\n",
       "                }\n",
       "            }, 500);\n",
       "            "
      ],
      "text/plain": [
       "<IPython.core.display.Javascript object>"
      ]
     },
     "metadata": {},
     "output_type": "display_data"
    },
    {
     "data": {
      "application/javascript": [
       "\n",
       "            setTimeout(function() {\n",
       "                var nbb_cell_id = 18;\n",
       "                var nbb_unformatted_code = \"odqd = ODQD(\\n    l=l,\\n    grid_length=grid_length,\\n    num_grid_points=num_grid_points,\\n    alpha=alpha,\\n    a=a,\\n    potential=potential,\\n)\";\n",
       "                var nbb_formatted_code = \"odqd = ODQD(\\n    l=l,\\n    grid_length=grid_length,\\n    num_grid_points=num_grid_points,\\n    alpha=alpha,\\n    a=a,\\n    potential=potential,\\n)\";\n",
       "                var nbb_cells = Jupyter.notebook.get_cells();\n",
       "                for (var i = 0; i < nbb_cells.length; ++i) {\n",
       "                    if (nbb_cells[i].input_prompt_number == nbb_cell_id) {\n",
       "                        if (nbb_cells[i].get_text() == nbb_unformatted_code) {\n",
       "                             nbb_cells[i].set_text(nbb_formatted_code);\n",
       "                        }\n",
       "                        break;\n",
       "                    }\n",
       "                }\n",
       "            }, 500);\n",
       "            "
      ],
      "text/plain": [
       "<IPython.core.display.Javascript object>"
      ]
     },
     "metadata": {},
     "output_type": "display_data"
    }
   ],
   "source": [
    "odqd = ODQD(\n",
    "    l=l,\n",
    "    grid_length=grid_length,\n",
    "    num_grid_points=num_grid_points,\n",
    "    alpha=alpha,\n",
    "    a=a,\n",
    "    potential=potential,\n",
    ")"
   ]
  },
  {
   "cell_type": "markdown",
   "id": "a74e58a8",
   "metadata": {},
   "source": [
    "The listed matrix elements can now be found from `odqd`.\n",
    "\n",
    "1. The one-body Hamiltonian $h_{\\alpha \\beta}$ are found in `odqd.h`.\n",
    "2. The two-body Coulomb interaction matrix elements $u^{\\alpha \\beta}_{\\gamma \\delta}$ are found in `odqd.u`.\n",
    "3. The one-body position matrix elements $x_{\\alpha \\beta}$ are found in `odqd.position[0]`, where the index `0` is included in case of higher-dimensional systems. In our case there is only the one and `odqd.position.shape == (1, odqd.l, odqd.l)`.\n",
    "4. The evaluated (evaluated at the grid) single-particle functions `\\chi_{\\alpha}(x)` are found in `odqd.spf`, where `odqd.spf.shape == (odqd.l, num_grid_points)`. That is, the ground state harmonic oscillator single-particle function is found from `odqd.spf[0]`.\n",
    "5. The discretized grid can be accessed from `odqd.grid`.\n",
    "\n",
    "Note that all matrix elements and basis functions are inherently complex with the imaginary part being zero.\n",
    "The ground-state solutions will be real, but when we include time-evolution everything will become complex and to avoid problems with data types when using NumPy we start of with complex matrix elements."
   ]
  },
  {
   "cell_type": "markdown",
   "id": "c83d7a4d",
   "metadata": {},
   "source": [
    "### Plotting the basis elements\n",
    "\n",
    "Below we demonstrate how the single-particle functions can be plotted on the grid along with the harmonic oscillator potential."
   ]
  },
  {
   "cell_type": "code",
   "execution_count": 21,
   "id": "2f18e9d2",
   "metadata": {},
   "outputs": [
    {
     "data": {
      "image/png": "[encoded data removed]",
      "text/plain": [
       "<Figure size 1152x720 with 1 Axes>"
      ]
     },
     "metadata": {
      "needs_background": "light"
     },
     "output_type": "display_data"
    },
    {
     "data": {
      "application/javascript": [
       "\n",
       "            setTimeout(function() {\n",
       "                var nbb_cell_id = 21;\n",
       "                var nbb_unformatted_code = \"fig = plt.figure(figsize=(16 ,10))\\n\\nplt.plot(odqd.grid, potential(odqd.grid))\\n\\nfor i in range(l):\\n    plt.plot(odqd.grid, np.abs(odqd.spf[i]) ** 2 + odqd.h[i, i].real, label=r\\\"$\\\\chi_{\\\" + f\\\"{i}\\\" + r\\\"}$\\\")\\n\\nplt.grid()\\nplt.legend()\\nplt.show()\";\n",
       "                var nbb_formatted_code = \"fig = plt.figure(figsize=(16, 10))\\n\\nplt.plot(odqd.grid, potential(odqd.grid))\\n\\nfor i in range(l):\\n    plt.plot(\\n        odqd.grid,\\n        np.abs(odqd.spf[i]) ** 2 + odqd.h[i, i].real,\\n        label=r\\\"$\\\\chi_{\\\" + f\\\"{i}\\\" + r\\\"}$\\\",\\n    )\\n\\nplt.grid()\\nplt.legend()\\nplt.show()\";\n",
       "                var nbb_cells = Jupyter.notebook.get_cells();\n",
       "                for (var i = 0; i < nbb_cells.length; ++i) {\n",
       "                    if (nbb_cells[i].input_prompt_number == nbb_cell_id) {\n",
       "                        if (nbb_cells[i].get_text() == nbb_unformatted_code) {\n",
       "                             nbb_cells[i].set_text(nbb_formatted_code);\n",
       "                        }\n",
       "                        break;\n",
       "                    }\n",
       "                }\n",
       "            }, 500);\n",
       "            "
      ],
      "text/plain": [
       "<IPython.core.display.Javascript object>"
      ]
     },
     "metadata": {},
     "output_type": "display_data"
    },
    {
     "data": {
      "application/javascript": [
       "\n",
       "            setTimeout(function() {\n",
       "                var nbb_cell_id = 21;\n",
       "                var nbb_unformatted_code = \"fig = plt.figure(figsize=(16 ,10))\\n\\nplt.plot(odqd.grid, potential(odqd.grid))\\n\\nfor i in range(l):\\n    plt.plot(odqd.grid, np.abs(odqd.spf[i]) ** 2 + odqd.h[i, i].real, label=r\\\"$\\\\chi_{\\\" + f\\\"{i}\\\" + r\\\"}$\\\")\\n\\nplt.grid()\\nplt.legend()\\nplt.show()\";\n",
       "                var nbb_formatted_code = \"fig = plt.figure(figsize=(16, 10))\\n\\nplt.plot(odqd.grid, potential(odqd.grid))\\n\\nfor i in range(l):\\n    plt.plot(\\n        odqd.grid,\\n        np.abs(odqd.spf[i]) ** 2 + odqd.h[i, i].real,\\n        label=r\\\"$\\\\chi_{\\\" + f\\\"{i}\\\" + r\\\"}$\\\",\\n    )\\n\\nplt.grid()\\nplt.legend()\\nplt.show()\";\n",
       "                var nbb_cells = Jupyter.notebook.get_cells();\n",
       "                for (var i = 0; i < nbb_cells.length; ++i) {\n",
       "                    if (nbb_cells[i].input_prompt_number == nbb_cell_id) {\n",
       "                        if (nbb_cells[i].get_text() == nbb_unformatted_code) {\n",
       "                             nbb_cells[i].set_text(nbb_formatted_code);\n",
       "                        }\n",
       "                        break;\n",
       "                    }\n",
       "                }\n",
       "            }, 500);\n",
       "            "
      ],
      "text/plain": [
       "<IPython.core.display.Javascript object>"
      ]
     },
     "metadata": {},
     "output_type": "display_data"
    },
    {
     "data": {
      "application/javascript": [
       "\n",
       "            setTimeout(function() {\n",
       "                var nbb_cell_id = 21;\n",
       "                var nbb_unformatted_code = \"fig = plt.figure(figsize=(16 ,10))\\n\\nplt.plot(odqd.grid, potential(odqd.grid))\\n\\nfor i in range(l):\\n    plt.plot(odqd.grid, np.abs(odqd.spf[i]) ** 2 + odqd.h[i, i].real, label=r\\\"$\\\\chi_{\\\" + f\\\"{i}\\\" + r\\\"}$\\\")\\n\\nplt.grid()\\nplt.legend()\\nplt.show()\";\n",
       "                var nbb_formatted_code = \"fig = plt.figure(figsize=(16, 10))\\n\\nplt.plot(odqd.grid, potential(odqd.grid))\\n\\nfor i in range(l):\\n    plt.plot(\\n        odqd.grid,\\n        np.abs(odqd.spf[i]) ** 2 + odqd.h[i, i].real,\\n        label=r\\\"$\\\\chi_{\\\" + f\\\"{i}\\\" + r\\\"}$\\\",\\n    )\\n\\nplt.grid()\\nplt.legend()\\nplt.show()\";\n",
       "                var nbb_cells = Jupyter.notebook.get_cells();\n",
       "                for (var i = 0; i < nbb_cells.length; ++i) {\n",
       "                    if (nbb_cells[i].input_prompt_number == nbb_cell_id) {\n",
       "                        if (nbb_cells[i].get_text() == nbb_unformatted_code) {\n",
       "                             nbb_cells[i].set_text(nbb_formatted_code);\n",
       "                        }\n",
       "                        break;\n",
       "                    }\n",
       "                }\n",
       "            }, 500);\n",
       "            "
      ],
      "text/plain": [
       "<IPython.core.display.Javascript object>"
      ]
     },
     "metadata": {},
     "output_type": "display_data"
    },
    {
     "data": {
      "application/javascript": [
       "\n",
       "            setTimeout(function() {\n",
       "                var nbb_cell_id = 21;\n",
       "                var nbb_unformatted_code = \"fig = plt.figure(figsize=(16 ,10))\\n\\nplt.plot(odqd.grid, potential(odqd.grid))\\n\\nfor i in range(l):\\n    plt.plot(odqd.grid, np.abs(odqd.spf[i]) ** 2 + odqd.h[i, i].real, label=r\\\"$\\\\chi_{\\\" + f\\\"{i}\\\" + r\\\"}$\\\")\\n\\nplt.grid()\\nplt.legend()\\nplt.show()\";\n",
       "                var nbb_formatted_code = \"fig = plt.figure(figsize=(16, 10))\\n\\nplt.plot(odqd.grid, potential(odqd.grid))\\n\\nfor i in range(l):\\n    plt.plot(\\n        odqd.grid,\\n        np.abs(odqd.spf[i]) ** 2 + odqd.h[i, i].real,\\n        label=r\\\"$\\\\chi_{\\\" + f\\\"{i}\\\" + r\\\"}$\\\",\\n    )\\n\\nplt.grid()\\nplt.legend()\\nplt.show()\";\n",
       "                var nbb_cells = Jupyter.notebook.get_cells();\n",
       "                for (var i = 0; i < nbb_cells.length; ++i) {\n",
       "                    if (nbb_cells[i].input_prompt_number == nbb_cell_id) {\n",
       "                        if (nbb_cells[i].get_text() == nbb_unformatted_code) {\n",
       "                             nbb_cells[i].set_text(nbb_formatted_code);\n",
       "                        }\n",
       "                        break;\n",
       "                    }\n",
       "                }\n",
       "            }, 500);\n",
       "            "
      ],
      "text/plain": [
       "<IPython.core.display.Javascript object>"
      ]
     },
     "metadata": {},
     "output_type": "display_data"
    }
   ],
   "source": [
    "fig = plt.figure(figsize=(16, 10))\n",
    "\n",
    "plt.plot(odqd.grid, potential(odqd.grid))\n",
    "\n",
    "for i in range(l):\n",
    "    plt.plot(\n",
    "        odqd.grid,\n",
    "        np.abs(odqd.spf[i]) ** 2 + odqd.h[i, i].real,\n",
    "        label=r\"$\\chi_{\" + f\"{i}\" + r\"}$\",\n",
    "    )\n",
    "\n",
    "plt.grid()\n",
    "plt.legend()\n",
    "plt.show()"
   ]
  }
 ],
 "metadata": {
  "kernelspec": {
   "display_name": "Python 3",
   "language": "python",
   "name": "python3"
  },
  "language_info": {
   "codemirror_mode": {
    "name": "ipython",
    "version": 3
   },
   "file_extension": ".py",
   "mimetype": "text/x-python",
   "name": "python",
   "nbconvert_exporter": "python",
   "pygments_lexer": "ipython3",
   "version": "3.8.6"
  }
 },
 "nbformat": 4,
 "nbformat_minor": 5
}
