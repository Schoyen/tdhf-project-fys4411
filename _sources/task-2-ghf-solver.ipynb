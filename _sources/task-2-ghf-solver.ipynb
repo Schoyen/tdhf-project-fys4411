{
 "cells": [
  {
   "cell_type": "markdown",
   "id": "e1a52d5a",
   "metadata": {},
   "source": [
    "# Task 2: General Hartree-Fock solver\n",
    "\n",
    "Having set up an initial single-particle basis set $\\{\\chi_{\\alpha}\\}_{\\alpha = 1}^{l}$ we now set out to find the ground state of the two-body fermion problem.\n",
    "The full time-independent Hamiltonian used by {cite}`zanghellini_2004` is given by\n",
    "\\begin{align}\n",
    "    \\hat{H}\n",
    "    = \\hat{h} + \\hat{u}\n",
    "    = \\sum_{i = 1}^{n}\\left(\n",
    "        -\\frac{1}{2}\\frac{\\text{d}^2}{\\text{d}x^2}\n",
    "        + \\frac{1}{2}\\omega^2 x^2\n",
    "    \\right)\n",
    "    + \\sum_{i = 1}^{n} \\sum_{j = i + 1}^{n} \\frac{\\alpha}{\\sqrt{(x_i - x_j)^2 + a^2}},\n",
    "\\end{align}\n",
    "where the number of particles $n = 2$, $a = 0.25$, $\\alpha = 1$ (not to be confused with the index $\\alpha$ in the basis of harmonic oscillator eigenstates), and $\\omega = 0.25$.\n",
    "\n",
    "We start from the time-independent Schrödinger equation\n",
    "\\begin{align}\n",
    "    \\hat{H} | \\Psi \\rangle = E | \\Psi \\rangle,\n",
    "\\end{align}\n",
    "where $| \\Psi \\rangle$ is a many-body wave function.\n",
    "We know that in the non-interacting case the exact ground state of the Hamiltonian will be a single Slater determinant (which we denote $| \\Phi \\rangle$) of the lowest single-particle eigenstates.\n",
    "This motivates the ansatz of using a single Slater determinant for the full many-body problem\n",
    "\\begin{align}\n",
    "    | \\Psi \\rangle \\approx | \\Phi \\rangle.\n",
    "\\end{align}\n",
    "Now, the goal of the Hartree-Fock method is to find the single Slater determinant that minimizes the energy, i.e., gets closest to the \"true\" many-body ground state energy $E_{gs}$ of the problem.\n",
    "This is formulated via the variational principle\n",
    "\\begin{align}\n",
    "    E_{gs} \\leq E[\\Psi] = \\langle \\Psi | \\hat{H} | \\Psi \\rangle,\n",
    "\\end{align}\n",
    "for any normalized wave function $| \\Psi \\rangle$.\n",
    "There is also an extra requirement on the Hartree-Fock wave function, and that is that the Hartree-Fock orbitals (which we denote $\\{\\phi_i\\}_{i = 1}^{k}$) should be orthonormal, i.e., $\\langle \\phi_i | \\phi_j \\rangle = \\delta_{ij}$.\n",
    "To include this requirement in the variational principle we use Lagrange's method of undetermined multipliers\n",
    "\n",
    "$$\n",
    "    L[\\Psi, \\boldsymbol{\\lambda}]\n",
    "    = E[\\Psi]\n",
    "    - \\lambda_{ji} \\left(\n",
    "        \\langle \\phi_i | \\phi_j \\rangle\n",
    "        - \\delta_{ij}\n",
    "    \\right),\n",
    "$$ (eq:hf-lagrangian)\n",
    "where $\\boldsymbol{\\lambda}$ are the Lagrange multipliers.\n",
    "To avoid confusion with any other Slater determinants we will introduce the notation $| \\text{HF} \\rangle = |\\phi_1\\dots\\phi_n\\rangle$ for the optimized Hartree-Fock Slater determinant.\n",
    "\n",
    "```{note}\n",
    "Add derivation of the (canonical) GHF-equations.\n",
    "```\n",
    "\n",
    "Minimization of the Lagrangian in {eq}`eq:hf-lagrangian` yields the Hartree-Fock eigenvalue equation\n",
    "\n",
    "$$\n",
    "    \\hat{f} | \\phi_p \\rangle = \\varepsilon_p | \\phi_p \\rangle,\n",
    "$$ (eq:canonical-hf-equation)\n",
    "where $\\hat{f}$ is the single-particle Fock-operator.\n",
    "Note that this equation is not limited to the occupied states (denoted $\\{ \\phi_i \\}_{i = 1}^n$) in $|\\text{HF}\\rangle$, but to all states (denoted $\\{ \\phi_p \\}_{p = 1}^k$).\n",
    "The matrix elements of the single-particle Fock operator are given by\n",
    "\\begin{align}\n",
    "    \\langle \\psi | \\hat{f} | \\xi \\rangle\n",
    "    = \\langle \\psi | \\hat{h} | \\xi \\rangle\n",
    "    + \\sum_{i = 1}^{n} \\langle \\psi \\phi_i | \\hat{u} | \\xi \\phi_i \\rangle\n",
    "    - \\sum_{i = 1}^{n} \\langle \\psi \\phi_i | \\hat{u} | \\phi_i \\xi \\rangle,\n",
    "\\end{align}\n",
    "where $|\\psi\\rangle$ and $|\\xi \\rangle$ are two arbitrary single-particle states."
   ]
  },
  {
   "cell_type": "markdown",
   "id": "2bf470b1",
   "metadata": {},
   "source": [
    "## Types of orbital systems\n",
    "\n",
    "In quantum chemistry it is common to call the initial single-particle functions for _atomic orbitals_ (AO).\n",
    "We will also adhere to this convention, thus making the basis of harmonic oscillator single-particle functions the atomic orbitals of our system.\n",
    "Now, as the harmonic oscillator Hamiltonian is independent of spin we have restricted our view to the spatial part of the atomic orbitals when using quantum-systems to construct our basis elements.\n",
    "However, when moving to the full fermionic many-body picture (two = many) we have to include spin to get the full picture.\n",
    "We often talk about three kinds of orbitals depending on the restrictions put on spin.\n",
    "\n",
    "1. The general spin-orbital is on the form\n",
    "    \\begin{align}\n",
    "        \\phi(x, m_s)\n",
    "        &= \\varphi_1(x) \\alpha(m_s) + \\varphi_2(x) \\beta(m_s),\n",
    "    \\end{align}\n",
    "    where $\\varphi_i(x)$ are the spatial oribtals, and $\\sigma \\in \\{\\alpha, \\beta\\}$ are spin basis functions with $m_s \\in \\{\\uparrow, \\downarrow\\}$ the spin quantum number.\n",
    "    Typical choices for the spin basis functions are\n",
    "    \\begin{gather}\n",
    "        \\alpha(\\uparrow) = 1, \\quad \\beta(\\uparrow) = 0, \\\\\n",
    "        \\alpha(\\downarrow) = 0, \\quad \\beta(\\downarrow) = 1.\n",
    "    \\end{gather}\n",
    "2. The unrestricted spin-orbital is on the form\n",
    "    \\begin{align}\n",
    "        \\phi(x, m_s)\n",
    "        = \\varphi_{\\sigma}(x) \\sigma(m_s),\n",
    "    \\end{align}\n",
    "    where an unrestricted spin-orbital has a definite spin-direction (either $\\alpha$ or $\\beta$), but allows for the spatial part to be different between spin-directions.\n",
    "3. The restricted spin-orbital is on the form\n",
    "    \\begin{align}\n",
    "        \\phi(x, m_s)\n",
    "        = \\varphi(x) \\sigma(m_s),\n",
    "    \\end{align}\n",
    "    where the spin-orbitals have a definite spin-direction with the spatial part equal between the two spin-directions.\n",
    "\n",
    "We will in this project create a general Hartree-Fock (GHF) solver which implies that we use general spin-orbitals.\n",
    "This will turn out to be easiest mathematically (when deriving the equations for GHF) and the most general formulation.\n",
    "However, the restricted and unrestricted formulations are more numerically efficient."
   ]
  },
  {
   "cell_type": "markdown",
   "id": "7c86432c",
   "metadata": {},
   "source": [
    "## Adding spin to the harmonic oscillator basis\n",
    "\n",
    "From [task-1](task_1_mel) we have constructed a spatial basis of harmonic oscillator eigenstates $\\{\\chi_{\\alpha}\\}_{\\alpha = 1}^{l}$, with spin-independent matrix elements $h_{\\alpha \\beta}$, $u^{\\alpha \\beta}_{\\gamma \\delta}$, etc.\n",
    "We now wish to include spin in the harmonic oscillator basis functions.\n",
    "The way we do this is by doubling each spatial basis function (and hence each axis in the matrix elements) essentially creating duplicates.\n",
    "\n",
    "We will denote this basis of general harmonic oscillator spin-orbitals by $\\{\\psi_{\\mu}\\}_{\\mu = 1}^{2l}$.\n",
    "The question is then how we can go from $h_{\\alpha \\beta} \\to h_{\\mu \\nu}$ and similarly for the other matrix elements.\n",
    "We let the general harmonic oscillator spin-orbitals be given by\n",
    "\\begin{align}\n",
    "    |\\psi_{\\mu}\\rangle\n",
    "    &= |\\chi_{\\alpha}\\rangle \\otimes |\\sigma\\rangle,\n",
    "\\end{align}\n",
    "where $\\alpha = \\mu // 2$ (integer division), and $\\sigma = \\alpha$ if $\\mu$ is even and $\\sigma = \\beta$ if $\\mu$ is odd.\n",
    "The one-body Hamiltonian matrix elements are thus given by\n",
    "\\begin{align}\n",
    "    h_{\\mu \\nu}\n",
    "    &= \\langle \\psi_{\\mu} | \\hat{h} \\otimes \\hat{I} | \\psi_{\\nu} \\rangle\n",
    "    = \\left(\\langle \\chi_{\\alpha} | \\otimes \\langle \\sigma | \\right)\n",
    "    \\hat{h} \\otimes \\hat{I} \\left( | \\chi_{\\beta} \\rangle \\otimes | \\tau \\rangle \\right)\n",
    "    \\\\\n",
    "    &= \\langle \\chi_{\\alpha} | \\hat{h} | \\chi_{\\beta} \\rangle\n",
    "    \\langle \\sigma | \\tau \\rangle\n",
    "    = h_{\\alpha \\beta} \\delta_{\\sigma \\tau},\n",
    "\\end{align}\n",
    "where $\\hat{I}$ is the spin-basis identity operator, and we've chosen an orthonormal basis of spin states.\n",
    "The full general spin-orbital matrix $\\mathbf{h}_{GSO}$ can then be constructed from the (spatial) atomic orbital matrix $\\mathbf{h}_{SpaS}$ and $\\mathbf{I}_{2\\times 2}$ the $2 \\times 2$ identity matrix by\n",
    "\\begin{align}\n",
    "    \\mathbf{h}_{GSO} = \\mathbf{h}_{SpaS} \\otimes \\mathbf{I}_{2 \\times 2},\n",
    "\\end{align}\n",
    "where $\\otimes$ is the Kronecker product.\n",
    "This ensures that all even (odd) indices correspond to $\\alpha$ ($\\beta$) spin-states.\n",
    "From [quantum-systems](https://github.com/Schoyen/quantum-systems) this is done automatically when passing in a `BasisSet` to the class `GeneralOrbitalSystem`.\n",
    "Below we demonstrate how this is done for harmonic oscillator basis set."
   ]
  },
  {
   "cell_type": "code",
   "execution_count": 1,
   "id": "f7929c4a",
   "metadata": {},
   "outputs": [
    {
     "data": {
      "application/javascript": [
       "\n",
       "            setTimeout(function() {\n",
       "                var nbb_cell_id = 1;\n",
       "                var nbb_unformatted_code = \"%reload_ext nb_black\";\n",
       "                var nbb_formatted_code = \"%reload_ext nb_black\";\n",
       "                var nbb_cells = Jupyter.notebook.get_cells();\n",
       "                for (var i = 0; i < nbb_cells.length; ++i) {\n",
       "                    if (nbb_cells[i].input_prompt_number == nbb_cell_id) {\n",
       "                        if (nbb_cells[i].get_text() == nbb_unformatted_code) {\n",
       "                             nbb_cells[i].set_text(nbb_formatted_code);\n",
       "                        }\n",
       "                        break;\n",
       "                    }\n",
       "                }\n",
       "            }, 500);\n",
       "            "
      ],
      "text/plain": [
       "<IPython.core.display.Javascript object>"
      ]
     },
     "metadata": {},
     "output_type": "display_data"
    }
   ],
   "source": [
    "%reload_ext nb_black"
   ]
  },
  {
   "cell_type": "code",
   "execution_count": 14,
   "id": "80768d38",
   "metadata": {},
   "outputs": [
    {
     "data": {
      "application/javascript": [
       "\n",
       "            setTimeout(function() {\n",
       "                var nbb_cell_id = 14;\n",
       "                var nbb_unformatted_code = \"import numpy as np\\nimport matplotlib.pyplot as plt\\n\\nfrom quantum_systems import ODQD, GeneralOrbitalSystem\";\n",
       "                var nbb_formatted_code = \"import numpy as np\\nimport matplotlib.pyplot as plt\\n\\nfrom quantum_systems import ODQD, GeneralOrbitalSystem\";\n",
       "                var nbb_cells = Jupyter.notebook.get_cells();\n",
       "                for (var i = 0; i < nbb_cells.length; ++i) {\n",
       "                    if (nbb_cells[i].input_prompt_number == nbb_cell_id) {\n",
       "                        if (nbb_cells[i].get_text() == nbb_unformatted_code) {\n",
       "                             nbb_cells[i].set_text(nbb_formatted_code);\n",
       "                        }\n",
       "                        break;\n",
       "                    }\n",
       "                }\n",
       "            }, 500);\n",
       "            "
      ],
      "text/plain": [
       "<IPython.core.display.Javascript object>"
      ]
     },
     "metadata": {},
     "output_type": "display_data"
    }
   ],
   "source": [
    "import numpy as np\n",
    "import matplotlib.pyplot as plt\n",
    "\n",
    "from quantum_systems import ODQD, GeneralOrbitalSystem"
   ]
  },
  {
   "cell_type": "code",
   "execution_count": 15,
   "id": "39102f86",
   "metadata": {},
   "outputs": [
    {
     "data": {
      "application/javascript": [
       "\n",
       "            setTimeout(function() {\n",
       "                var nbb_cell_id = 15;\n",
       "                var nbb_unformatted_code = \"n = 2  # Number of particles\\nl = 10  # Number of eigenstates\\ngrid_length = 10  # The width of the one-dimensional grid\\nnum_grid_points = 2001  # The number of discretized points on the grid.\\n# More points give better results for the single-particle basis at the cost of slower setup.\\n\\nalpha = 1  # The strength of the Coulomb interaction\\na = 0.25  # The shielding parameter in the Coulomb interaction potential\\n\\nomega = 0.25  # The frequency of the harmonic oscillator trap\";\n",
       "                var nbb_formatted_code = \"n = 2  # Number of particles\\nl = 10  # Number of eigenstates\\ngrid_length = 10  # The width of the one-dimensional grid\\nnum_grid_points = 2001  # The number of discretized points on the grid.\\n# More points give better results for the single-particle basis at the cost of slower setup.\\n\\nalpha = 1  # The strength of the Coulomb interaction\\na = 0.25  # The shielding parameter in the Coulomb interaction potential\\n\\nomega = 0.25  # The frequency of the harmonic oscillator trap\";\n",
       "                var nbb_cells = Jupyter.notebook.get_cells();\n",
       "                for (var i = 0; i < nbb_cells.length; ++i) {\n",
       "                    if (nbb_cells[i].input_prompt_number == nbb_cell_id) {\n",
       "                        if (nbb_cells[i].get_text() == nbb_unformatted_code) {\n",
       "                             nbb_cells[i].set_text(nbb_formatted_code);\n",
       "                        }\n",
       "                        break;\n",
       "                    }\n",
       "                }\n",
       "            }, 500);\n",
       "            "
      ],
      "text/plain": [
       "<IPython.core.display.Javascript object>"
      ]
     },
     "metadata": {},
     "output_type": "display_data"
    }
   ],
   "source": [
    "n = 2  # Number of particles\n",
    "l = 10  # Number of eigenstates\n",
    "grid_length = 10  # The width of the one-dimensional grid\n",
    "num_grid_points = 2001  # The number of discretized points on the grid.\n",
    "# More points give better results for the single-particle basis at the cost of slower setup.\n",
    "\n",
    "alpha = 1  # The strength of the Coulomb interaction\n",
    "a = 0.25  # The shielding parameter in the Coulomb interaction potential\n",
    "\n",
    "omega = 0.25  # The frequency of the harmonic oscillator trap"
   ]
  },
  {
   "cell_type": "code",
   "execution_count": 16,
   "id": "aed566d6",
   "metadata": {},
   "outputs": [
    {
     "data": {
      "application/javascript": [
       "\n",
       "            setTimeout(function() {\n",
       "                var nbb_cell_id = 16;\n",
       "                var nbb_unformatted_code = \"potential = ODQD.HOPotential(omega=omega)  # Harmonic oscillator potential\";\n",
       "                var nbb_formatted_code = \"potential = ODQD.HOPotential(omega=omega)  # Harmonic oscillator potential\";\n",
       "                var nbb_cells = Jupyter.notebook.get_cells();\n",
       "                for (var i = 0; i < nbb_cells.length; ++i) {\n",
       "                    if (nbb_cells[i].input_prompt_number == nbb_cell_id) {\n",
       "                        if (nbb_cells[i].get_text() == nbb_unformatted_code) {\n",
       "                             nbb_cells[i].set_text(nbb_formatted_code);\n",
       "                        }\n",
       "                        break;\n",
       "                    }\n",
       "                }\n",
       "            }, 500);\n",
       "            "
      ],
      "text/plain": [
       "<IPython.core.display.Javascript object>"
      ]
     },
     "metadata": {},
     "output_type": "display_data"
    }
   ],
   "source": [
    "potential = ODQD.HOPotential(omega=omega)  # Harmonic oscillator potential"
   ]
  },
  {
   "cell_type": "code",
   "execution_count": 31,
   "id": "8309aeff",
   "metadata": {},
   "outputs": [
    {
     "name": "stdout",
     "output_type": "stream",
     "text": [
      "Basis l: 10\n",
      "Basis grid: (2001,)\n",
      "Basis h.shape: (10, 10)\n",
      "Basis u.shape: (10, 10, 10, 10)\n",
      "Basis x.shape: (1, 10, 10)\n",
      "Basis spf.shape: (10, 2001)\n"
     ]
    },
    {
     "data": {
      "application/javascript": [
       "\n",
       "            setTimeout(function() {\n",
       "                var nbb_cell_id = 31;\n",
       "                var nbb_unformatted_code = \"odqd = ODQD(\\n    l=l,\\n    grid_length=grid_length,\\n    num_grid_points=num_grid_points,\\n    alpha=alpha,\\n    a=a,\\n    potential=potential,\\n)\\n\\nprint(f\\\"Basis l: {odqd.l}\\\")\\nprint(f\\\"Basis grid: {odqd.grid.shape}\\\")\\nprint(f\\\"Basis h.shape: {odqd.h.shape}\\\")\\nprint(f\\\"Basis u.shape: {odqd.u.shape}\\\")\\nprint(f\\\"Basis x.shape: {odqd.position.shape}\\\")\\nprint(f\\\"Basis spf.shape: {odqd.spf.shape}\\\")\";\n",
       "                var nbb_formatted_code = \"odqd = ODQD(\\n    l=l,\\n    grid_length=grid_length,\\n    num_grid_points=num_grid_points,\\n    alpha=alpha,\\n    a=a,\\n    potential=potential,\\n)\\n\\nprint(f\\\"Basis l: {odqd.l}\\\")\\nprint(f\\\"Basis grid: {odqd.grid.shape}\\\")\\nprint(f\\\"Basis h.shape: {odqd.h.shape}\\\")\\nprint(f\\\"Basis u.shape: {odqd.u.shape}\\\")\\nprint(f\\\"Basis x.shape: {odqd.position.shape}\\\")\\nprint(f\\\"Basis spf.shape: {odqd.spf.shape}\\\")\";\n",
       "                var nbb_cells = Jupyter.notebook.get_cells();\n",
       "                for (var i = 0; i < nbb_cells.length; ++i) {\n",
       "                    if (nbb_cells[i].input_prompt_number == nbb_cell_id) {\n",
       "                        if (nbb_cells[i].get_text() == nbb_unformatted_code) {\n",
       "                             nbb_cells[i].set_text(nbb_formatted_code);\n",
       "                        }\n",
       "                        break;\n",
       "                    }\n",
       "                }\n",
       "            }, 500);\n",
       "            "
      ],
      "text/plain": [
       "<IPython.core.display.Javascript object>"
      ]
     },
     "metadata": {},
     "output_type": "display_data"
    }
   ],
   "source": [
    "odqd = ODQD(\n",
    "    l=l,\n",
    "    grid_length=grid_length,\n",
    "    num_grid_points=num_grid_points,\n",
    "    alpha=alpha,\n",
    "    a=a,\n",
    "    potential=potential,\n",
    ")\n",
    "\n",
    "print(f\"Basis l: {odqd.l}\")\n",
    "print(f\"Basis grid: {odqd.grid.shape}\")\n",
    "print(f\"Basis h.shape: {odqd.h.shape}\")\n",
    "print(f\"Basis u.shape: {odqd.u.shape}\")\n",
    "print(f\"Basis x.shape: {odqd.position.shape}\")\n",
    "print(f\"Basis spf.shape: {odqd.spf.shape}\")"
   ]
  },
  {
   "cell_type": "code",
   "execution_count": 32,
   "id": "7f0b608e",
   "metadata": {},
   "outputs": [
    {
     "name": "stdout",
     "output_type": "stream",
     "text": [
      "GOS l: 20\n",
      "GOS grid: (2001,)\n",
      "GOS h.shape: (20, 20)\n",
      "GOS u.shape: (20, 20, 20, 20)\n",
      "GOS x.shape: (1, 20, 20)\n",
      "GOS spf.shape: (20, 2001)\n"
     ]
    },
    {
     "data": {
      "application/javascript": [
       "\n",
       "            setTimeout(function() {\n",
       "                var nbb_cell_id = 32;\n",
       "                var nbb_unformatted_code = \"# This adds spin to all matrix elements\\n# Note that gos.l = 2 * l\\n# Note also that odqd itself is transformed into a general orbital system.\\n# If you want to keep the pure spatial basis you can pass in a copy, viz.\\n# gos = GeneralOrbitalSystem(n, gos.copy_basis())\\ngos = GeneralOrbitalSystem(n, odqd)\\n\\nprint(f\\\"GOS l: {gos.l}\\\")\\nprint(f\\\"GOS grid: {gos._basis_set.grid.shape}\\\")\\nprint(f\\\"GOS h.shape: {gos.h.shape}\\\")\\nprint(f\\\"GOS u.shape: {gos.u.shape}\\\")\\nprint(f\\\"GOS x.shape: {gos.position.shape}\\\")\\nprint(f\\\"GOS spf.shape: {gos.spf.shape}\\\")\";\n",
       "                var nbb_formatted_code = \"# This adds spin to all matrix elements\\n# Note that gos.l = 2 * l\\n# Note also that odqd itself is transformed into a general orbital system.\\n# If you want to keep the pure spatial basis you can pass in a copy, viz.\\n# gos = GeneralOrbitalSystem(n, gos.copy_basis())\\ngos = GeneralOrbitalSystem(n, odqd)\\n\\nprint(f\\\"GOS l: {gos.l}\\\")\\nprint(f\\\"GOS grid: {gos._basis_set.grid.shape}\\\")\\nprint(f\\\"GOS h.shape: {gos.h.shape}\\\")\\nprint(f\\\"GOS u.shape: {gos.u.shape}\\\")\\nprint(f\\\"GOS x.shape: {gos.position.shape}\\\")\\nprint(f\\\"GOS spf.shape: {gos.spf.shape}\\\")\";\n",
       "                var nbb_cells = Jupyter.notebook.get_cells();\n",
       "                for (var i = 0; i < nbb_cells.length; ++i) {\n",
       "                    if (nbb_cells[i].input_prompt_number == nbb_cell_id) {\n",
       "                        if (nbb_cells[i].get_text() == nbb_unformatted_code) {\n",
       "                             nbb_cells[i].set_text(nbb_formatted_code);\n",
       "                        }\n",
       "                        break;\n",
       "                    }\n",
       "                }\n",
       "            }, 500);\n",
       "            "
      ],
      "text/plain": [
       "<IPython.core.display.Javascript object>"
      ]
     },
     "metadata": {},
     "output_type": "display_data"
    }
   ],
   "source": [
    "# This adds spin to all matrix elements\n",
    "# Note that gos.l = 2 * l\n",
    "# Note also that odqd itself is transformed into a general orbital system.\n",
    "# If you want to keep the pure spatial basis you can pass in a copy, viz.\n",
    "# gos = GeneralOrbitalSystem(n, gos.copy_basis())\n",
    "gos = GeneralOrbitalSystem(n, odqd)\n",
    "\n",
    "print(f\"GOS l: {gos.l}\")\n",
    "print(f\"GOS grid: {gos._basis_set.grid.shape}\")\n",
    "print(f\"GOS h.shape: {gos.h.shape}\")\n",
    "print(f\"GOS u.shape: {gos.u.shape}\")\n",
    "print(f\"GOS x.shape: {gos.position.shape}\")\n",
    "print(f\"GOS spf.shape: {gos.spf.shape}\")"
   ]
  },
  {
   "cell_type": "markdown",
   "id": "77cd2d2b",
   "metadata": {},
   "source": [
    "Looking at the output above we see that the number of basis elements $l$ have been doubled.\n",
    "However, the grid and the number of dimensions (the first axis in `gos.position`) are unchanged.\n",
    "It is worth pointing out that `gos.spf[::2]` (all even indices) correspond to the spatial part of the $\\alpha$ component of a general spin-orbital and `gos.spf[1::2]` (all odd indices) the $\\beta$ component."
   ]
  },
  {
   "cell_type": "markdown",
   "id": "a389f037",
   "metadata": {},
   "source": [
    "## The Roothan-Hall equations\n",
    "\n",
    "The way we solve the Hartree-Fock equation in {eq}`eq:canonical-hf-equation` is by expanding the Hartree-Fock orbitals (also called molecular orbitals (MO)) $\\{ \\phi_p \\}_{p = 1}^k$ in an atomic orbital basis $\\{ \\psi_{\\mu} \\}_{\\mu = 1}^{l}$ (which we here take to be the harmonic oscillator basis states with spin-doubling), and then projecting the equations onto the known basis set.\n",
    "We express a basis transformation from the AO basis to the MO basis by\n",
    "\n",
    "$$\n",
    "    |\\phi_p\\rangle = \\sum_{\\mu = 1}^{l} C_{\\mu p} | \\psi_{\\mu} \\rangle,\n",
    "$$ (eq:basis-transformation)\n",
    "where the coefficients $C_{\\mu p}$ now become our primary unknowns in the Hartree-Fock method.\n",
    "Projecting the AO basis onto equation {eq}`eq:canonical-hf-equation` we have\n",
    "\\begin{gather}\n",
    "    \\langle \\psi_{\\mu} | \\hat{f} | \\phi_p \\rangle\n",
    "    = \\varepsilon_{p} \\langle \\psi_{\\mu} | \\phi_p \\rangle\n",
    "    \\implies\n",
    "    \\sum_{\\nu = 1}^{l} f_{\\mu \\nu} C_{\\nu p}\n",
    "    = \\varepsilon_{p} \\sum_{\\nu = 1}^{l} \\delta_{\\mu \\nu} C_{\\nu p}\n",
    "    =  C_{\\mu p} \\varepsilon_{p}\n",
    "    \\\\\n",
    "    \\implies\n",
    "    \\mathbf{F} \\mathbf{C}\n",
    "    = \\mathbf{C} \\boldsymbol{\\varepsilon},\n",
    "\\end{gather}\n",
    "where $[\\mathbf{F}]_{\\mu \\nu} = f_{\\mu \\nu} = \\langle \\psi_{\\mu} | \\hat{f} | \\psi_{\\nu} \\rangle$ are the Fock matrix elements in the AO basis, $[\\mathbf{C}]_{\\mu p} = C_{\\mu p}$ the basis transformation coefficient matrix, and $\\boldsymbol{\\varepsilon} = [\\varepsilon_1, \\dots, \\varepsilon_k]^T$ the vector of Hartree-Fock single-particle eigenenergy (not to be confused with the full many-body energy).\n",
    "The last eigenvalue equation is known as the Roothan-Hall equations.\n",
    "Here both $\\mathbf{C}$ and $\\boldsymbol{\\varepsilon}$ are the primary unknowns."
   ]
  }
 ],
 "metadata": {
  "kernelspec": {
   "display_name": "Python 3",
   "language": "python",
   "name": "python3"
  },
  "language_info": {
   "codemirror_mode": {
    "name": "ipython",
    "version": 3
   },
   "file_extension": ".py",
   "mimetype": "text/x-python",
   "name": "python",
   "nbconvert_exporter": "python",
   "pygments_lexer": "ipython3",
   "version": "3.8.6"
  }
 },
 "nbformat": 4,
 "nbformat_minor": 5
}
