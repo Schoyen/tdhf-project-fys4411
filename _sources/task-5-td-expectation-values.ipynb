{
 "cells": [
  {
   "cell_type": "markdown",
   "id": "52bc7398",
   "metadata": {},
   "source": [
    "# Task 5: Time-dependent expectation values"
   ]
  },
  {
   "cell_type": "markdown",
   "id": "894f5d10",
   "metadata": {},
   "source": [
    "## Time-dependent overlap\n",
    "\n",
    "We compute the time-dependent overlap between two Slater determinants (with orthonormal atomic orbital basis functions) by\n",
    "\\begin{align}\n",
    "    P(t, t_0)\n",
    "    &= \\bigl|\\langle \\Phi(t) | \\Phi(t_0) \\rangle \\bigr|^2\n",
    "    = \\bigl|\\det\\bigl(C^{\\dagger}_o(t) C_o(t_0)\\bigr)\\bigr|^2,\n",
    "\\end{align}\n",
    "where $C_o(t)$ is the coefficient matrix of the time-evolved state with $o$ denoting the occupied columns."
   ]
  },
  {
   "cell_type": "markdown",
   "id": "ec980d4b",
   "metadata": {},
   "source": [
    "## One-body expectation values\n",
    "\n",
    "Given a one-body operator $\\hat{A}$ we wish to compute the time-dependent expectation values.\n",
    "```{note}\n",
    "A one-body operator is an operator that acts on a single particle at a time.\n",
    "For example, the position operator $\\hat{x}$ is a one-body operator, whereas the Coulomb interaction $\\hat{u}$ is a two-body operator as it applies to the interaction between two particles at a time.\n",
    "```\n",
    "Having already found the matrix elements of $\\hat{A}$ in a static (time-independent) atomic basis $\\{\\psi_{\\mu}\\}_{\\mu = 1}^{l}$, we can compute the expectation value of this operator by\n",
    "\\begin{align}\n",
    "    \\langle A(t) \\rangle\n",
    "    &= \\langle \\psi_{\\mu} | \\hat{A} | \\psi_{\\nu} \\rangle D_{\\nu \\mu}(t),\n",
    "\\end{align}\n",
    "where $D_{\\nu \\mu}(t) = \\sum_{i = 1}^{n} C^{*}_{\\mu i}(t) C_{\\nu i}(t)$ is the time-evolved Hartree-Fock density matrix.\n",
    "Alternatively, by transforming the one-body operator to the time-evolved molecular orbital basis $\\{\\psi_p(t)\\}_{p = 1}^{k}$ we can compute the expectation value from\n",
    "\\begin{align}\n",
    "    \\langle A(t) \\rangle\n",
    "    &=\n",
    "    \\langle \\phi_{p}(t) | \\hat{A} | \\phi_q(t) \\rangle\n",
    "    \\rho_{q p},\n",
    "\\end{align}\n",
    "where $\\rho_{q p}$ is the one-body density matrix in the time-evolved Hartree-Fock basis.\n",
    "This matrix is given by\n",
    "\\begin{align}\n",
    "    \\boldsymbol{\\rho}\n",
    "    &= \\begin{pmatrix}\n",
    "        \\boldsymbol{I}_{n \\times n} & \\boldsymbol{0}_{n \\times (k - n)} \\\\\n",
    "        \\boldsymbol{0}_{(k - n) \\times n} & \\boldsymbol{0}_{(k - n) \\times (k - n)}\n",
    "    \\end{pmatrix},\n",
    "\\end{align}\n",
    "that is, the matrix is the identity in the occupied block and zero elsehwere.\n",
    "Both ways of computing the expectation value give the same value."
   ]
  }
 ],
 "metadata": {
  "kernelspec": {
   "display_name": "Python 3",
   "language": "python",
   "name": "python3"
  },
  "language_info": {
   "codemirror_mode": {
    "name": "ipython",
    "version": 3
   },
   "file_extension": ".py",
   "mimetype": "text/x-python",
   "name": "python",
   "nbconvert_exporter": "python",
   "pygments_lexer": "ipython3",
   "version": "3.8.6"
  }
 },
 "nbformat": 4,
 "nbformat_minor": 5
}
