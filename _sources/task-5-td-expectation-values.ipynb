{
 "cells": [
  {
   "cell_type": "markdown",
   "id": "52bc7398",
   "metadata": {},
   "source": [
    "# Task 5: Time-dependent expectation values"
   ]
  },
  {
   "cell_type": "markdown",
   "id": "894f5d10",
   "metadata": {},
   "source": [
    "## Time-dependent overlap\n",
    "\n",
    "We compute the time-dependent overlap between two Slater determinants (with orthonormal atomic orbital basis functions) by\n",
    "\\begin{align}\n",
    "    P(t, t_0)\n",
    "    &= \\bigl|\\langle \\Phi(t) | \\Phi(t_0) \\rangle \\bigr|^2\n",
    "    = \\bigl|\\det\\bigl(C^{\\dagger}(t) C(t_0)\\bigr)\\bigr|^2,\n",
    "\\end{align}\n",
    "where $C(t)$ is the coefficient matrix of the time-evolved state."
   ]
  }
 ],
 "metadata": {
  "kernelspec": {
   "display_name": "Python 3",
   "language": "python",
   "name": "python3"
  },
  "language_info": {
   "codemirror_mode": {
    "name": "ipython",
    "version": 3
   },
   "file_extension": ".py",
   "mimetype": "text/x-python",
   "name": "python",
   "nbconvert_exporter": "python",
   "pygments_lexer": "ipython3",
   "version": "3.8.6"
  }
 },
 "nbformat": 4,
 "nbformat_minor": 5
}
