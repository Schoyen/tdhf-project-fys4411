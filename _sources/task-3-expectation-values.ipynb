{
 "cells": [
  {
   "cell_type": "markdown",
   "id": "e7cb7897",
   "metadata": {},
   "source": [
    "# Task 3: Expectation values\n",
    "\n",
    "There are two main quantities that we wish to compute for the ground state in this project.\n",
    "They are the full many-body ground state energy $E$ from the general Hartree-Fock method, and the particle density (also known as the one-body density and the electron density) $\\rho(x)$."
   ]
  },
  {
   "cell_type": "markdown",
   "id": "ac946b61",
   "metadata": {},
   "source": [
    "## The general Hartree-Fock energy\n",
    "\n",
    "We wish to compute the ground state energy from the Hartree-Fock ansatz, $| \\Psi \\rangle = |\\phi_1\\dots\\phi_n\\rangle$.\n",
    "This is done by\n",
    "\\begin{align}\n",
    "    E &= \\langle \\Psi | \\hat{H} | \\Psi \\rangle\n",
    "    = \\sum_{i = 1}^{n} \\langle \\phi_i | \\hat{h} | \\phi_i \\rangle\n",
    "    + \\frac{1}{2} \\sum_{i, j = 1}^{n}\n",
    "    \\langle \\phi_i \\phi_j | \\hat{u} | \\phi_i \\phi_j \\rangle_{AS},\n",
    "\\end{align}\n",
    "where the molecular orbitals are the optimized Hartree-Fock orbitals.\n",
    "Inserting the basis expansion the energy can be found as a function of the coefficient matrices and the atomic orbital matrix elements."
   ]
  },
  {
   "cell_type": "markdown",
   "id": "11fc3b11",
   "metadata": {},
   "source": [
    "## The particle density\n",
    "\n",
    "The particle density can be computed from the single-particle functions evaluated on a grid, and the one-body density matrix.\n",
    "We have already found the one-body density matrix when constructing the Fock matrix, it is given by $D_{\\nu \\mu} = \\sum_{i = 1}^{n} C^{*}_{\\mu i} C_{\\nu i}$.\n",
    "We can then compute the particle density from\n",
    "\\begin{align}\n",
    "    \\rho(x) = \\sum_{\\mu, \\nu = 1}^{l} \\psi^{*}_{\\mu}(x) D_{\\nu \\mu} \\psi_{\\nu}(x)\n",
    "\\end{align}"
   ]
  }
 ],
 "metadata": {
  "kernelspec": {
   "display_name": "Python 3",
   "language": "python",
   "name": "python3"
  },
  "language_info": {
   "codemirror_mode": {
    "name": "ipython",
    "version": 3
   },
   "file_extension": ".py",
   "mimetype": "text/x-python",
   "name": "python",
   "nbconvert_exporter": "python",
   "pygments_lexer": "ipython3",
   "version": "3.8.6"
  }
 },
 "nbformat": 4,
 "nbformat_minor": 5
}
