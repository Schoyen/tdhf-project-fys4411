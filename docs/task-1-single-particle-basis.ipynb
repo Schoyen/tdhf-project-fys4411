{
 "cells": [
  {
   "cell_type": "markdown",
   "id": "30c361c3",
   "metadata": {},
   "source": [
    "# Task 1: Single-particle basis"
   ]
  },
  {
   "cell_type": "markdown",
   "id": "556b74ff",
   "metadata": {},
   "source": [
    "We will here discuss how to set up the single-particle basis for the Hamiltonian used by {cite}`zanghellini_2004`. We will use a one-dimensional discrete-variable representation (DVR) for our single-particle states. Specifically we will use the sinc-DVR basis by {cite}`colbert-sinc`."
   ]
  },
  {
   "cell_type": "code",
   "execution_count": 2,
   "id": "1b3d1b60",
   "metadata": {},
   "outputs": [],
   "source": [
    "import numpy as np\n",
    "import matplotlib.pyplot as plt"
   ]
  },
  {
   "cell_type": "markdown",
   "id": "eae2d144",
   "metadata": {},
   "source": [
    "## Hamiltonian\n",
    "\n",
    "The Hamiltonian used by {cite}`zanghellini_2004` is\n",
    "\n",
    "$$\n",
    "    H(x_1, \\dots, x_n, t) = \\sum_{i = 1}^{n} \\left(\n",
    "        -\\frac{1}{2} \\frac{\\mathrm{d}^2}{\\mathrm{d}x_i^2}\n",
    "        + \\frac{\\Omega^2}{2} x_i^2\n",
    "        + x_i \\mathcal{E}_0 \\sin(\\omega t)\n",
    "    \\right)\n",
    "    + \\sum_{i = 1}^{n} \\sum_{j = i + 1}^{n}\n",
    "    \\frac{1}{\\sqrt{(x_i - x_j)^2 + a^2}},\n",
    "$$ (eq:hamiltonian)\n",
    "\n",
    "where we denote the time-independent one-body Hamiltonian by\n",
    "\n",
    "$$\n",
    "    h(x_i) = -\\frac{1}{2} \\frac{\\mathrm{d}^2}{\\mathrm{d}x_i^2}\n",
    "    + \\frac{\\Omega^2}{2} x_i^2,\n",
    "$$ (eq:one-body-hamiltonian)\n",
    "\n",
    "the two-body soft Coulomb interaction by\n",
    "\\begin{align*}\n",
    "    u(x_i, x_j) = \\frac{1}{\\sqrt{(x_i - x_j)^2 + a^2}},\n",
    "\\end{align*}\n",
    "and the semi-classical monochromatic laser-field described by a  time-dependent, one-body, dipole interaction as\n",
    "\\begin{align*}\n",
    "    h_I(x_i, t)\n",
    "    = x_i \\mathcal{E}_0 \\sin(\\omega t).\n",
    "\\end{align*}\n",
    "As done by {cite}`zanghellini_2004` we will restrict ourselves to two-particles, i.e., $n = 2$, we use a trap frequency of $\\Omega = 0.25$, and a \"shielding\" parameter $a = 0.25$ for the Coulomb interaction. For the laser field we use a field strength of $\\mathcal{E}_0 = 1$ and a laser frequency of $\\omega = 8 \\Omega$."
   ]
  },
  {
   "cell_type": "markdown",
   "id": "16fc1b7d",
   "metadata": {},
   "source": [
    "## Definition of a one-dimensional DVR basis\n",
    "\n",
    "According to {cite}`colbert-dvr` a definition of a one-dimensional DVR consists of four components.\n",
    "They are:\n",
    "\n",
    "1. An orthonormal basis set $B = \\{\\chi_i(x) \\mid i = 1, \\dots, K\\}$, where $\\chi(x)$ are real.\n",
    "2. An $N$-point quadrature with the _points_ and _weights_ $Q = \\{(x_i, w_i) \\mid i = 1, \\dots K\\}$.\n",
    "3. The property $\\chi_i(x_k) = w_k^{-1/2} \\delta_{ik}$ where $(x_k, w_k) \\in Q$ and $\\chi_i(x) \\in B$.\n",
    "4. The rule that the matrix elements of all multiplicative operators (all $\\hat{x}$-dependent operators) are computed within the quadrature approximation.\n",
    "\n",
    "The authors dub $\\chi_i$ the DVR functions.\n",
    "Note that even though $\\chi_i(x_k) = w_k^{-1/2} \\delta_{ik}$ when $(x_k,\n",
    "w_k) \\in Q$, $\\chi_i(x)$  is not necessarily zero for all values of $x$.\n",
    "That is, the basis functions does not have to be everywhere zero except for\n",
    "at the quadrature points.\n",
    "They are however orthogonal at the quadrature points as stated by property\n",
    "3 above.\n",
    "Property 4 is given mathematically as\n",
    "\\begin{align*}\n",
    "    \\langle \\chi_i | \\hat{v}(x) | \\chi_j \\rangle\n",
    "    \\approx \\sum_{k = 1}^{K} w_k \\chi_i(x_k) v(x_k) \\chi_j(x_k)\n",
    "    = \\sum_{k = 1}^{K} \\frac{w_k}{\\sqrt{w_i w_j}} \\delta_{ik} \\delta_{jk} v(x_k)\n",
    "    = \\delta_{ij} v(x_j),\n",
    "\\end{align*}\n",
    "that is, the matrix elements of the potential operator (with only $\\hat{x}$-dependent operators) is the potential evaluated at the quadrature points, and it is diagonal."
   ]
  },
  {
   "cell_type": "markdown",
   "id": "eb817473",
   "metadata": {},
   "source": [
    "## Sinc-DVR basis\n",
    "\n",
    "The specific DVR-basis we will be using is the sinc-DVR by {cite}`colbert-sinc`. The basis set is then $B = \\{\\chi_i(x) \\mid i = 1, \\dots, K\\}$ with the basis functions defined as\n",
    "\\begin{align*}\n",
    "    \\chi_i(x) = \\frac{1}{\\sqrt{\\delta x}} \\mathrm{sinc}\\!\\left(\n",
    "    \\frac{x - x_i}{\\delta x}\n",
    "    \\right),\n",
    "\\end{align*}\n",
    "where the $\\mathrm{sinc}(x)$-function is given by\n",
    "\\begin{align*}\n",
    "    \\mathrm{sinc}(x) = \\begin{cases}\n",
    "        \\frac{\\sin(\\pi x)}{\\pi x}, & x \\neq 0, \\\\\n",
    "        \\quad 1, & x = 0.\n",
    "    \\end{cases}\n",
    "\\end{align*}\n",
    "The quadrature for this basis is $Q = \\{(x_0 + i\\delta x, \\delta x) \\mid i = 1, \\dots, K\\}$, that is, a uniform grid  with equal weights, $x_i = x_0 + i \\delta x$ with $x_0$ an arbitrary starting point, and all weights the same $\\delta x$."
   ]
  },
  {
   "cell_type": "code",
   "execution_count": 30,
   "id": "ec71f40b",
   "metadata": {},
   "outputs": [],
   "source": [
    "# Class defining a sinc-DVR single-particle function\n",
    "class SincDVR:\n",
    "    def __init__(self, x_i, dx):\n",
    "        self.x_i = x_i\n",
    "        self.dx = dx\n",
    "\n",
    "    def __call__(self, x):\n",
    "        return np.sinc((x - self.x_i) / self.dx) / np.sqrt(self.dx)"
   ]
  },
  {
   "cell_type": "code",
   "execution_count": 32,
   "id": "68655e6c",
   "metadata": {},
   "outputs": [],
   "source": [
    "dx = 0.2  # Grid-spacing\n",
    "x_min = -5  # Left-most side of the simulation box\n",
    "x_max = 5\n",
    "num_dvr = int((x_max - x_min) / dx) + 1  # Number of DVR-states\n",
    "\n",
    "grid = np.linspace(x_min, x_max, num_dvr)  # The uniform quadrature grid\n",
    "B = [SincDVR(x_i, dx) for x_i in grid]  # List of callable sinc-DVR functions"
   ]
  },
  {
   "cell_type": "markdown",
   "id": "4d573711",
   "metadata": {},
   "source": [
    "Below we demonstrate what the sinc-DVR functions look like, both on the grid (where they are Kronecker-Deltas) and on a more refined grid."
   ]
  },
  {
   "cell_type": "code",
   "execution_count": 36,
   "id": "bb967713",
   "metadata": {},
   "outputs": [
    {
     "data": {
      "image/png": "[encoded data removed]",
      "text/plain": [
       "<Figure size 640x480 with 1 Axes>"
      ]
     },
     "metadata": {},
     "output_type": "display_data"
    }
   ],
   "source": [
    "plt.scatter(grid, B[3](grid), color=\"b\", label=r\"$\\chi_3(x_j)$\")\n",
    "plt.plot(\n",
    "    (x := np.linspace(x_min, x_max, num_dvr * 10)),\n",
    "    B[3](x),\n",
    "    color=\"r\",\n",
    "    label=r\"$\\chi_3(x)$\",\n",
    ")\n",
    "plt.grid()\n",
    "plt.legend()\n",
    "plt.show()"
   ]
  },
  {
   "cell_type": "markdown",
   "id": "39a11dd9",
   "metadata": {},
   "source": [
    "Here $\\chi_3(x)$ is the sinc-DVR function on a more refined grid, and $\\chi_3(x_j)$ denotes the same function evaluated only at the grid points."
   ]
  },
  {
   "cell_type": "markdown",
   "id": "5cf5e290",
   "metadata": {},
   "source": [
    "### Matrix elements of the Hamiltonian\n",
    "\n",
    "We will be needing both one-body and two-body matrix elements from the Hamiltonian shown in equation {eq}`eq:hamiltonian`. The kinetic energy matrix elements for the sinc-DVR can be found in equation (A7) in {cite}`colbert-sinc`. They are\n",
    "\\begin{align*}\n",
    "    \\langle \\chi_i | -\\frac{1}{2} \\frac{\\mathrm{d}^2}{\\mathrm{d} x^2} | \\chi_j \\rangle\n",
    "    = \\begin{cases}\n",
    "        \\frac{\\pi^2}{6 (\\delta x)^2}, & i = j, \\\\\n",
    "        \\frac{(-1)^{i - j}}{(\\delta x)^2 (i - j)^2}, & i \\neq j.\n",
    "    \\end{cases}\n",
    "\\end{align*}\n",
    "The remaining terms can be evaluated using the quadrature rule. For example, the matrix elements of the harmonic oscillator potential (or only the operator part) are\n",
    "\\begin{align*}\n",
    "    \\langle \\chi_i | \\hat{x}^2 | \\chi_j \\rangle\n",
    "    \\approx \\delta_{ij} x_j^2.\n",
    "\\end{align*}\n",
    "For the two-body Coulomb interaction there are two integrals which can both be solved using the quadrature rule.\n",
    "That is (note which position in the bras and the kets are pairwise integrated),\n",
    "\n",
    "$$\n",
    "    \\langle \\chi_i \\chi_j | \\hat{u}(x_1, x_2) | \\chi_k \\chi_l \\rangle\n",
    "    = \\int \\mathrm{d} x \\mathrm{d} y \\frac{\\chi_i(x) \\chi_j(y) \\chi_k(x) \\chi_l(y)}{\\sqrt{(x - y)^2 + a^2}}\n",
    "    \\approx \\delta_{ik} \\delta_{jl} u(x_k, x_l).\n",
    "$$ (eq:task-1-quadrature-two-body)\n",
    "\n",
    "```{note}\n",
    "Show how the quadrature rule can be used twice to get the expression in equation {eq}`eq:task-1-quadrature-two-body`.\n",
    "```"
   ]
  },
  {
   "cell_type": "markdown",
   "id": "bc290fc2",
   "metadata": {},
   "source": [
    "```{note}\n",
    "Set up the matrix elements needed for the Hamiltonian in equation {eq}`eq:hamiltonian`.\n",
    "```"
   ]
  },
  {
   "cell_type": "markdown",
   "id": "f8cb5402",
   "metadata": {},
   "source": [
    "```{admonition} Tip\n",
    ":class: tip\n",
    "Once you have set up the matrix elements of the one-body Hamiltonian from equation {eq}`eq:one-body-hamiltonian` you can check that the setup has been done correctly. The eigenvalues of the one-body Hamiltonian should correspond to the eigenvalues of a one-dimensional harmonic oscillator (see {cite}`griffiths2010introduction` chapter 2.3) (if they differ by much you might need to increase the number of basis functions, and it might be that only the lowest eigenvalues are correct).\n",
    "```"
   ]
  }
 ],
 "metadata": {
  "kernelspec": {
   "display_name": "Python 3 (ipykernel)",
   "language": "python",
   "name": "python3"
  },
  "language_info": {
   "codemirror_mode": {
    "name": "ipython",
    "version": 3
   },
   "file_extension": ".py",
   "mimetype": "text/x-python",
   "name": "python",
   "nbconvert_exporter": "python",
   "pygments_lexer": "ipython3",
   "version": "3.10.9"
  }
 },
 "nbformat": 4,
 "nbformat_minor": 5
}
