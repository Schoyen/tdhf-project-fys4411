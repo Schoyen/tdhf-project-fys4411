{
 "cells": [
  {
   "cell_type": "markdown",
   "id": "5f98bef5",
   "metadata": {},
   "source": [
    "# Task 4: Time-dependent restricted Hartree-Fock solver\n",
    "\n",
    "Having constructed and solved the restricted Hartree-Fock ground state problem, we now set out to shine a monochromatic dipole laser on the system.\n",
    "This means appending a time-dependent operator to the Hamiltonian.\n",
    "The operator describes a semi-classical electric field in the dipole approximation in the length gauge.\n",
    "For a more thorough discussion of this operator check out chapters 2 - 2.4 in {cite}`joachain2012atoms`.\n",
    "The operator will in the one-dimensional case be described by\n",
    "\\begin{align}\n",
    "    \\hat{h}_I(t) = -f(t) \\hat{d},\n",
    "\\end{align}\n",
    "where $\\hat{d} \\equiv q\\hat{x}$ is the dipole moment operator with $q = -1$ the electron charge, and $f(t)$ the time-dependent laser field.\n",
    "From {cite}`zanghellini_2004` we have $f(t) = \\mathcal{E}_0 \\sin(\\omega t)$, (note that $\\omega$ is not necessarily the same as the harmonic oscillator well frequency) which describes a monochromatic laser field that is always active."
   ]
  },
  {
   "cell_type": "markdown",
   "id": "7e76b0cd",
   "metadata": {},
   "source": [
    "## Time-dependent Hartree-Fock\n",
    "\n",
    "In the time-dependent Hartree-Fock method we use an ansatz for the many-body wave function as\n",
    "\\begin{align}\n",
    "    | \\Psi(t) \\rangle = | \\Phi(t) \\rangle = | \\phi_1(t) \\phi_2(t) \\dots \\phi_n(t) \\rangle,\n",
    "\\end{align}\n",
    "where the time-dependence is kept in the molecular orbitals.\n",
    "```{note}\n",
    "Add derivation of the time-dependent Hartree-Fock equations.\n",
    "```\n",
    "The time-evolution of the molecular orbitals is described by the time-dependent Hartree-Fock equation\n",
    "\\begin{align}\n",
    "    i \\frac{\\text{d}}{\\text{d} t} | \\phi_p(t) \\rangle\n",
    "    = \\hat{f}(t) | \\phi_p(t) \\rangle,\n",
    "\\end{align}\n",
    "where $\\hat{f}(t)$ is the time-dependent Fock operator and we have set $\\hbar = 1$.\n",
    "We have chosen to expand the time-independent molecular orbitals in a known basis of atomic orbitals (the harmonic oscillator eigenfunctions).\n",
    "Here as well we choose to expand our time-dependent molecular orbitals in a time-independent basis of atomic orbitals, and let the time-evolution occur in the coefficients.\n",
    "That is,\n",
    "\\begin{align}\n",
    "    | \\phi_p(t) \\rangle\n",
    "    = \\sum_{\\mu = 1}^{l} C_{\\mu p}(t) | \\psi_{\\mu} \\rangle,\n",
    "\\end{align}\n",
    "where $\\{\\psi_{\\mu}\\}_{\\mu = 1}^{l}$ is a time-independent atomic orbital basis which we assume to be orthonormal.\n",
    "Inserting this expansion into the time-dependent Hartree-Fock equations and left-projecting with $\\langle \\psi_{\\mu}|$ we get\n",
    "\\begin{gather}\n",
    "    i \\frac{\\text{d}}{\\text{d} t} \\sum_{\\nu = 1}^{l} C_{\\nu p}(t) | \\psi_{\\nu} \\rangle\n",
    "    = \\hat{f}(t) \\sum_{\\nu = 1}^{l} C_{\\nu p}(t) | \\psi_{\\nu} \\rangle\n",
    "    \\\\\n",
    "    \\implies\n",
    "    i \\sum_{\\nu = 1}^{l} \\dot{C}_{\\nu p}(t)\n",
    "    \\langle \\psi_{\\mu} | \\psi_{\\nu} \\rangle\n",
    "    = i \\dot{C}_{\\mu p}(t)\n",
    "    = \\langle \\psi_{\\mu} | \\hat{f}(t) | \\psi_{\\nu} \\rangle C_{\\nu p}(t)\n",
    "    = f_{\\mu \\nu}(t) C_{\\nu p}(t),\n",
    "\\end{gather}\n",
    "where we now need to find the matrix elements of the time-dependent Fock operator in the atomic orbital basis.\n",
    "As the laser field interaction operator $\\hat{h}_I(t)$ is a one-body operator, the time-dependent Fock operator will need to add this term."
   ]
  }
 ],
 "metadata": {
  "kernelspec": {
   "display_name": "Python 3 (ipykernel)",
   "language": "python",
   "name": "python3"
  },
  "language_info": {
   "codemirror_mode": {
    "name": "ipython",
    "version": 3
   },
   "file_extension": ".py",
   "mimetype": "text/x-python",
   "name": "python",
   "nbconvert_exporter": "python",
   "pygments_lexer": "ipython3",
   "version": "3.9.7"
  }
 },
 "nbformat": 4,
 "nbformat_minor": 5
}
