{
 "cells": [
  {
   "cell_type": "markdown",
   "id": "0dd06b11",
   "metadata": {},
   "source": [
    "# Task 2: General Hartree-Fock solver\n",
    "\n",
    "Having set up an initial single-particle basis set $\\{\\chi_{\\alpha}\\}_{\\alpha = 1}^{l}$ we now set out to find the ground state of the two-body problem.\n",
    "The full Hamiltonian used by {cite}`zanghellini_2004` is given by\n",
    "\\begin{align}\n",
    "    \\hat{H}\n",
    "    = \\hat{h} + \\hat{u}\n",
    "    = \\sum_{i = 1}^{n}\\left(\n",
    "        -\\frac{1}{2}\\frac{\\text{d}^2}{\\text{d}x^2}\n",
    "        + \\frac{1}{2}\\omega^2 x^2\n",
    "    \\right)\n",
    "    + \\sum_{i = 1}^{n} \\sum_{j = i + 1}^{n} \\frac{\\alpha}{\\sqrt{(x_i - x_j)^2 + a^2}},\n",
    "\\end{align}\n",
    "where the number of particles $n = 2$, $a = 0.25$, $\\alpha = 1$ (not to be confused with the index $\\alpha$ in the basis of harmonic oscillator eigenstates), and $\\omega = 0.25$."
   ]
  },
  {
   "cell_type": "markdown",
   "id": "e43449d5",
   "metadata": {},
   "source": [
    "## Types of orbital systems\n",
    "\n",
    "In quantum chemistry it is common to call the initial single-particle functions for _atomic orbitals_.\n",
    "We will also adhere to this convention, thus making the basis of harmonic oscillator single-particle functions the atomic orbitals of our system.\n",
    "Now, as the harmonic oscillator Hamiltonian is independent of spin we have restricted our view to the spatial part of the atomic orbitals when using quantum-systems to construct our basis elements.\n"
   ]
  }
 ],
 "metadata": {
  "kernelspec": {
   "display_name": "Python 3",
   "language": "python",
   "name": "python3"
  },
  "language_info": {
   "codemirror_mode": {
    "name": "ipython",
    "version": 3
   },
   "file_extension": ".py",
   "mimetype": "text/x-python",
   "name": "python",
   "nbconvert_exporter": "python",
   "pygments_lexer": "ipython3",
   "version": "3.8.6"
  }
 },
 "nbformat": 4,
 "nbformat_minor": 5
}
