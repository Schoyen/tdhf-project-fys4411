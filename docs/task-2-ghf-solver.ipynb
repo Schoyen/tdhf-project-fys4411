{
 "cells": [
  {
   "cell_type": "markdown",
   "id": "e1a52d5a",
   "metadata": {},
   "source": [
    "# Task 2: General Hartree-Fock solver\n",
    "\n",
    "Having set up an initial single-particle basis set $\\{\\chi_{\\alpha}\\}_{\\alpha = 1}^{l}$ we now set out to find the ground state of the two-body problem.\n",
    "The full Hamiltonian used by {cite}`zanghellini_2004` is given by\n",
    "\\begin{align}\n",
    "    \\hat{H}\n",
    "    = \\hat{h} + \\hat{u}\n",
    "    = \\sum_{i = 1}^{n}\\left(\n",
    "        -\\frac{1}{2}\\frac{\\text{d}^2}{\\text{d}x^2}\n",
    "        + \\frac{1}{2}\\omega^2 x^2\n",
    "    \\right)\n",
    "    + \\sum_{i = 1}^{n} \\sum_{j = i + 1}^{n} \\frac{\\alpha}{\\sqrt{(x_i - x_j)^2 + a^2}},\n",
    "\\end{align}\n",
    "where the number of particles $n = 2$, $a = 0.25$, $\\alpha = 1$ (not to be confused with the index $\\alpha$ in the basis of harmonic oscillator eigenstates), and $\\omega = 0.25$."
   ]
  },
  {
   "cell_type": "markdown",
   "id": "2bf470b1",
   "metadata": {},
   "source": [
    "## Types of orbital systems\n",
    "\n",
    "In quantum chemistry it is common to call the initial single-particle functions for _atomic orbitals_ (AO).\n",
    "We will also adhere to this convention, thus making the basis of harmonic oscillator single-particle functions the atomic orbitals of our system.\n",
    "Now, as the harmonic oscillator Hamiltonian is independent of spin we have restricted our view to the spatial part of the atomic orbitals when using quantum-systems to construct our basis elements.\n",
    "However, when moving to the full fermionic many-body picture (two = many) we have to include spin to get the full picture.\n",
    "We often talk about three kinds of orbitals depending on the restrictions put on spin.\n",
    "\n",
    "1. The general spin-orbital is on the form\n",
    "    \\begin{align}\n",
    "        \\phi(x, m_s)\n",
    "        &= c_1 \\varphi_1(x) \\alpha(m_s) + c_2 \\varphi_2(x) \\beta(m_s),\n",
    "    \\end{align}\n",
    "    where $\\varphi_i(x)$ are the spatial oribtals, and $\\sigma \\in \\{\\alpha, \\beta\\}$ are spin basis functions with $m_s \\in \\{\\uparrow, \\downarrow\\}$ the spin quantum number.\n",
    "    Typical choices for the spin basis functions are\n",
    "    \\begin{gather}\n",
    "        \\alpha(\\uparrow) = 1, \\quad \\beta(\\uparrow) = 0, \\\\\n",
    "        \\alpha(\\downarrow) = 0, \\quad \\beta(\\downarrow) = 1.\n",
    "    \\end{gather}\n",
    "2. The unrestricted spin-orbital is on the form\n",
    "    \\begin{align}\n",
    "        \\phi(x, m_s)\n",
    "        = \\varphi_{\\sigma}(x) \\sigma(m_s),\n",
    "    \\end{align}\n",
    "    where an unrestricted spin-orbital has a definite spin-direction (either $\\alpha$ or $\\beta$), but allows for the spatial part to be different between spin-directions.\n",
    "3. The restricted spin-orbital is on the form\n",
    "    \\begin{align}\n",
    "        \\phi(x, m_s)\n",
    "        = \\varphi(x) \\sigma(m_s),\n",
    "    \\end{align}\n",
    "    where the spin-orbitals have a definite spin-direction with the spatial part equal between the two spin-directions.\n",
    "\n",
    "We will in this project create a general Hartree-Fock (GHF) solver which implies that we use general spin-orbitals.\n",
    "This will turn out to be easiest mathematically (when deriving the equations for GHF) and the most general formulation.\n",
    "However, the restricted and unrestricted formulations are more numerically efficient."
   ]
  },
  {
   "cell_type": "markdown",
   "id": "7c86432c",
   "metadata": {},
   "source": [
    "## Adding spin to the harmonic oscillator basis\n",
    "\n",
    "From [task-1](task-1-mel) we have constructed a spatial basis of harmonic oscillator eigenstates $\\{\\chi_{\\alpha}\\}_{\\alpha = 1}^{l}$, with spin-independent matrix elements $h_{\\alpha \\beta}$, $u^{\\alpha \\beta}_{\\gamma \\delta}$, etc.\n",
    "We now wish to include spin in the harmonic oscillator basis functions.\n",
    "The way we do this is by doubling each spatial basis function (and hence each axis in the matrix elements) essentially creating duplicates.\n",
    "\n",
    "We will denote this basis of general harmonic oscillator spin-orbitals by $\\{\\psi_{\\mu}\\}_{\\mu = 1}^{2l}$.\n",
    "The question is then how we can go from $h_{\\alpha \\beta} \\to h_{\\mu \\nu}$ and similarly for the other matrix elements.\n",
    "We let the general harmonic oscillator spin-orbitals be given by\n",
    "\\begin{align}\n",
    "    |\\psi_{\\mu}\\rangle\n",
    "    &= |\\chi_{\\alpha}\\rangle \\otimes |\\sigma\\rangle,\n",
    "\\end{align}\n",
    "where $\\alpha = \\mu // 2$ (integer division), and $\\sigma = \\alpha$ if $\\mu$ is even and $\\sigma = \\beta$ if $\\mu$ is odd.\n",
    "The one-body Hamiltonian matrix elements are thus given by\n",
    "\\begin{align}\n",
    "    h_{\\mu \\nu}\n",
    "    &= \\langle \\psi_{\\mu} | \\hat{h} \\otimes I_{2 \\times 2} | \\psi_{\\nu} \\rangle\n",
    "    = \\left(\\langle \\chi_{\\alpha} | \\otimes \\langle \\sigma | \\right)\n",
    "    \\hat{h} \\otimes I_{2 \\times 2} \\left( | \\chi_{\\beta} \\rangle \\otimes | \\tau \\rangle \\right)\n",
    "    \\\\\n",
    "    &= \\langle \\chi_{\\alpha} | \\hat{h} | \\chi_{\\beta} \\rangle\n",
    "    \\langle \\sigma | \\tau \\rangle\n",
    "    = h_{\\alpha \\beta} \\delta_{\\sigma \\tau},\n",
    "\\end{align}\n",
    "where $I_{2 \\times 2}$ is a $2 \\times 2$ idenity matrix, and we've chosen an orthonormal basis of spin states.\n",
    "The full matrix $\\mathbf{h}$ in the"
   ]
  }
 ],
 "metadata": {
  "kernelspec": {
   "display_name": "Python 3",
   "language": "python",
   "name": "python3"
  },
  "language_info": {
   "codemirror_mode": {
    "name": "ipython",
    "version": 3
   },
   "file_extension": ".py",
   "mimetype": "text/x-python",
   "name": "python",
   "nbconvert_exporter": "python",
   "pygments_lexer": "ipython3",
   "version": "3.8.6"
  }
 },
 "nbformat": 4,
 "nbformat_minor": 5
}
